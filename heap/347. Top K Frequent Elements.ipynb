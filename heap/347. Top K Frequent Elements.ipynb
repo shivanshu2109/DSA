{
 "cells": [
  {
   "cell_type": "markdown",
   "id": "22939b81",
   "metadata": {},
   "source": [
    "**Problem Link**: [https://leetcode.com/problems/top-k-frequent-elements/description/](https://leetcode.com/problems/top-k-frequent-elements/description/)  \n",
    "**Solved On**: 2025-08-30  \n",
    "**Tags**: heap\n"
   ]
  },
  {
   "cell_type": "code",
   "execution_count": 14,
   "id": "7ea0dec6",
   "metadata": {},
   "outputs": [],
   "source": [
    "nums = [1,1,1,2,2,3,6,6,6,6,6,4,4,4,4,5,5,5,5,7,7,7,7,]\n",
    "k = 4"
   ]
  },
  {
   "cell_type": "code",
   "execution_count": 15,
   "id": "09be44c3",
   "metadata": {},
   "outputs": [
    {
     "name": "stdout",
     "output_type": "stream",
     "text": [
      "{1: 3, 2: 2, 3: 1, 6: 5, 4: 4, 5: 4, 7: 4}\n",
      "[6, 4, 5, 7]\n"
     ]
    }
   ],
   "source": [
    "dict1 = {}\n",
    "for i in nums:\n",
    "    dict1[i] = dict1.get(i,0) + 1\n",
    "print(dict1)\n",
    "top_k = sorted(dict1, key=dict1.get, reverse=True)[:k]\n",
    "print(top_k)"
   ]
  },
  {
   "cell_type": "markdown",
   "id": "c6aae277",
   "metadata": {},
   "source": [
    "# Using Heap"
   ]
  },
  {
   "cell_type": "code",
   "execution_count": null,
   "id": "1c09c2fd",
   "metadata": {},
   "outputs": [
    {
     "name": "stdout",
     "output_type": "stream",
     "text": [
      "[6, 4, 5, 7]\n"
     ]
    }
   ],
   "source": [
    "import heapq\n",
    "dict1 = {}\n",
    "for i in nums:\n",
    "    dict1[i] = dict1.get(i,0) + 1\n",
    "heap_top_k = heapq.nlargest(k,dict1,key = dict1.get)\n",
    "print(heap_top_k)"
   ]
  }
 ],
 "metadata": {
  "kernelspec": {
   "display_name": "Python 3",
   "language": "python",
   "name": "python3"
  },
  "language_info": {
   "codemirror_mode": {
    "name": "ipython",
    "version": 3
   },
   "file_extension": ".py",
   "mimetype": "text/x-python",
   "name": "python",
   "nbconvert_exporter": "python",
   "pygments_lexer": "ipython3",
   "version": "3.10.10"
  }
 },
 "nbformat": 4,
 "nbformat_minor": 5
}
