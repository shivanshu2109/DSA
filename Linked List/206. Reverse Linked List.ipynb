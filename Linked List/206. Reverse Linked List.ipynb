{
 "cells": [
  {
   "cell_type": "markdown",
   "id": "096d9f99",
   "metadata": {},
   "source": [
    "**Problem Link**: [https://leetcode.com/problems/reverse-linked-list/description/](https://leetcode.com/problems/reverse-linked-list/description/)  \n",
    "**Solved On**: 2025-06-27  \n",
    "**Tags**: Linked List\n"
   ]
  },
  {
   "cell_type": "markdown",
   "id": "98c09186",
   "metadata": {},
   "source": [
    "# Solving using Iteratively"
   ]
  },
  {
   "cell_type": "code",
   "execution_count": 6,
   "id": "d1a4f4fe",
   "metadata": {},
   "outputs": [],
   "source": [
    "class ListNode:\n",
    "    def __init__(self, val=0, next=None):\n",
    "        self.val = val\n",
    "        self.next = next\n",
    "\n",
    "def reverseListIterative(head):\n",
    "    prev = None\n",
    "    current = head\n",
    "\n",
    "    while current:\n",
    "        next_node = current.next  \n",
    "        current.next = prev       \n",
    "        prev = current         \n",
    "        current = next_node       \n",
    "\n",
    "    return prev\n"
   ]
  },
  {
   "cell_type": "markdown",
   "id": "7736dce2",
   "metadata": {},
   "source": [
    "# Solving using Recursively"
   ]
  },
  {
   "cell_type": "code",
   "execution_count": null,
   "id": "d5b2fccd",
   "metadata": {},
   "outputs": [],
   "source": [
    "def reverseListRecursive(head):\n",
    "    if not head or not head.next:\n",
    "        return head\n",
    "    new_head = reverseListRecursive(head.next)\n",
    "\n",
    "    head.next.next = head\n",
    "    head.next = None\n",
    "\n",
    "    return new_head\n"
   ]
  },
  {
   "cell_type": "code",
   "execution_count": null,
   "id": "19ddd8bf",
   "metadata": {},
   "outputs": [
    {
     "name": "stdout",
     "output_type": "stream",
     "text": [
      "Original List:\n",
      "1 -> 2 -> 3 -> None\n",
      "Reversed List (Iterative):\n",
      "3 -> 2 -> 1 -> None\n",
      "Reversed List (Recursive):\n",
      "3 -> 2 -> 1 -> None\n"
     ]
    }
   ],
   "source": [
    "def printList(head):\n",
    "    while head:\n",
    "        print(head.val, end=\" -> \")\n",
    "        head = head.next\n",
    "    print(\"None\")\n",
    "\n",
    "head = ListNode(1, ListNode(2, ListNode(3)))\n",
    "\n",
    "print(\"Original List:\")\n",
    "printList(head)\n",
    "\n",
    "reversed_head_iter = reverseListIterative(head)\n",
    "print(\"Reversed List (Iterative):\")\n",
    "printList(reversed_head_iter)\n",
    "\n",
    "head = ListNode(1, ListNode(2, ListNode(3)))\n",
    "reversed_head_rec = reverseListRecursive(head)\n",
    "print(\"Reversed List (Recursive):\")\n",
    "printList(reversed_head_rec)\n"
   ]
  }
 ],
 "metadata": {
  "kernelspec": {
   "display_name": "Python 3",
   "language": "python",
   "name": "python3"
  },
  "language_info": {
   "codemirror_mode": {
    "name": "ipython",
    "version": 3
   },
   "file_extension": ".py",
   "mimetype": "text/x-python",
   "name": "python",
   "nbconvert_exporter": "python",
   "pygments_lexer": "ipython3",
   "version": "3.10.10"
  }
 },
 "nbformat": 4,
 "nbformat_minor": 5
}
