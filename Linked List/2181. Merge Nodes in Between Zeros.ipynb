{
 "cells": [
  {
   "cell_type": "markdown",
   "id": "ddd41eb4",
   "metadata": {},
   "source": [
    "**Problem Link**: [https://leetcode.com/problems/merge-nodes-in-between-zeros/description/](https://leetcode.com/problems/merge-nodes-in-between-zeros/description/)  \n",
    "**Solved On**: 2025-06-24  \n",
    "**Tags**: Linked List\n"
   ]
  },
  {
   "cell_type": "markdown",
   "id": "4d78e8fc",
   "metadata": {},
   "source": [
    "# Using Dummy and making the node from there"
   ]
  },
  {
   "cell_type": "code",
   "execution_count": null,
   "id": "51587888",
   "metadata": {},
   "outputs": [],
   "source": [
    "class Solution:\n",
    "    def mergeNodes(self, head: Optional[ListNode]) -> Optional[ListNode]:\n",
    "        dummy = ListNode(0)\n",
    "        tail =  dummy\n",
    "        current =  head.next\n",
    "        curr_sum = 0\n",
    "        while current is not None:\n",
    "            if current.val==0:\n",
    "                tail.next = ListNode(curr_sum)\n",
    "                tail = tail.next\n",
    "                curr_sum = 0\n",
    "            else:\n",
    "                curr_sum+=current.val\n",
    "            current = current.next\n",
    "        return dummy.next"
   ]
  }
 ],
 "metadata": {
  "language_info": {
   "name": "python"
  }
 },
 "nbformat": 4,
 "nbformat_minor": 5
}
