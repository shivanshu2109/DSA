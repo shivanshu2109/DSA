{
 "cells": [
  {
   "cell_type": "markdown",
   "id": "f468b23a",
   "metadata": {},
   "source": [
    "**Problem Link**: [https://leetcode.com/problems/convert-binary-number-in-a-linked-list-to-integer/description/](https://leetcode.com/problems/convert-binary-number-in-a-linked-list-to-integer/description/)  \n",
    "**Solved On**: 2025-06-19  \n",
    "**Tags**: Linked List\n"
   ]
  },
  {
   "cell_type": "code",
   "execution_count": 1,
   "id": "8e1c9044",
   "metadata": {},
   "outputs": [],
   "source": [
    "head = [1,0,1]"
   ]
  },
  {
   "cell_type": "code",
   "execution_count": 2,
   "id": "707a960c",
   "metadata": {},
   "outputs": [
    {
     "name": "stdout",
     "output_type": "stream",
     "text": [
      "5\n"
     ]
    }
   ],
   "source": [
    "binary_str = ''\n",
    "for val in head:\n",
    "    binary_str += str(val)\n",
    "result = int(binary_str, 2)\n",
    "print(result)"
   ]
  }
 ],
 "metadata": {
  "kernelspec": {
   "display_name": "Python 3",
   "language": "python",
   "name": "python3"
  },
  "language_info": {
   "codemirror_mode": {
    "name": "ipython",
    "version": 3
   },
   "file_extension": ".py",
   "mimetype": "text/x-python",
   "name": "python",
   "nbconvert_exporter": "python",
   "pygments_lexer": "ipython3",
   "version": "3.10.10"
  }
 },
 "nbformat": 4,
 "nbformat_minor": 5
}
