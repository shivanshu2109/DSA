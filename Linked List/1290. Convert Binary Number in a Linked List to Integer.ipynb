{
 "cells": [
  {
   "cell_type": "markdown",
   "id": "9d5967b6",
   "metadata": {},
   "source": [
    "**Problem Link**: [\u0016https://leetcode.com/problems/convert-binary-number-in-a-linked-list-to-integer/description/](\u0016https://leetcode.com/problems/convert-binary-number-in-a-linked-list-to-integer/description/)  \n",
    "**Solved On**: 2025-06-19  \n",
    "**Tags**: Linked List\n"
   ]
  },
  {
   "cell_type": "code",
   "execution_count": 1,
   "id": "93cdcb4c",
   "metadata": {},
   "outputs": [],
   "source": [
    "head = [1,0,1]"
   ]
  },
  {
   "cell_type": "code",
   "execution_count": null,
   "id": "df9c0541",
   "metadata": {},
   "outputs": [],
   "source": [
    "binary_str = ''\n",
    "current = head\n",
    "while current is not None:\n",
    "    binary_str+=str(current.val)\n",
    "    current = current.next\n",
    "print( int(binary_str,2))\n",
    "        "
   ]
  }
 ],
 "metadata": {
  "kernelspec": {
   "display_name": "Python 3",
   "language": "python",
   "name": "python3"
  },
  "language_info": {
   "codemirror_mode": {
    "name": "ipython",
    "version": 3
   },
   "file_extension": ".py",
   "mimetype": "text/x-python",
   "name": "python",
   "nbconvert_exporter": "python",
   "pygments_lexer": "ipython3",
   "version": "3.10.10"
  }
 },
 "nbformat": 4,
 "nbformat_minor": 5
}
