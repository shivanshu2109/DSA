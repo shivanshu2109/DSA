{
 "cells": [
  {
   "cell_type": "markdown",
   "id": "d62faddb",
   "metadata": {},
   "source": [
    "**Problem Link**: [Linked List Format (No Leetcode)](Linked List Format (No Leetcode))  \n",
    "**Solved On**: 2025-07-10  \n",
    "**Tags**: Linked List\n"
   ]
  },
  {
   "cell_type": "markdown",
   "id": "1615599a",
   "metadata": {},
   "source": [
    "# Singly Linked List"
   ]
  },
  {
   "cell_type": "code",
   "execution_count": null,
   "id": "75044a7c",
   "metadata": {},
   "outputs": [],
   "source": [
    "class Node:\n",
    "    def __init__(self, item=None, next=None):\n",
    "        self.item = item\n",
    "        self.next = next\n",
    "\n",
    "class LinkedList:\n",
    "    def __init__(self, start = None):\n",
    "        self.start = start\n",
    "    \n",
    "    def is_empty(self):\n",
    "        return self.start == None\n",
    "    \n",
    "    def insert_at_start(self,data):\n",
    "        n = Node(data, self.start)\n",
    "        self.start = n\n",
    "\n",
    "    def insert_at_last(self,data):\n",
    "        n = Node(data)\n",
    "        if not self.is_empty():\n",
    "            current = self.start\n",
    "            while current.next is not None:\n",
    "                current = current.next\n",
    "            current.next = n\n",
    "        else:\n",
    "            self.start = n\n",
    "    \n",
    "    def search(self,data):\n",
    "        current = self.start\n",
    "        while current is not None:\n",
    "            if current.item == data:\n",
    "                return current\n",
    "            current = current.next\n",
    "        return None\n",
    "\n",
    "    def insert_after(self, temp, data):\n",
    "        if temp is not None:\n",
    "             n = Node(data, temp.next)\n",
    "             temp.next = n\n",
    "    \n",
    "    def print_list(self):\n",
    "        current = self.start\n",
    "        while current is not None:\n",
    "            print(current.item, end = ' ')\n",
    "            current = current.next\n",
    "\n",
    "    def delete_first(self):\n",
    "        if self.start is not None:\n",
    "            self.start = self.start.next\n",
    "    \n",
    "    def delete_last(self):\n",
    "        if self.start is None:\n",
    "            pass\n",
    "        elif self.start.next is None:\n",
    "            self.start = None\n",
    "        else:\n",
    "            current = self.start\n",
    "            while current.next.next is not None:\n",
    "                current = current.next\n",
    "            current.next = None\n",
    "    \n",
    "    def delete_item(self,data):\n",
    "        if self.start is None:\n",
    "            return\n",
    "        elif self.start.next is None:\n",
    "            if self.start.item == data:\n",
    "                self.start = None\n",
    "        else:\n",
    "            current = self.start\n",
    "            if current.item ==  data:\n",
    "                self.start = current.next\n",
    "            else:\n",
    "                while current.next is not None:\n",
    "                    if current.next.item == data:\n",
    "                        current.next = current.next.next\n",
    "                        return\n",
    "                    current = current.next\n",
    "    def __iter__(self):\n",
    "        return SLLIterator(self.start)\n",
    "\n",
    "class SLLIterator:\n",
    "    def __init__(self,start):\n",
    "        self.current = start\n",
    "    def __iter__(self):\n",
    "        return self\n",
    "    def __next__(self):\n",
    "        if self.current is None:\n",
    "            raise StopIteration\n",
    "        item = self.current.item\n",
    "        self.current = self.current.next\n",
    "        return item\n",
    "\n"
   ]
  },
  {
   "cell_type": "code",
   "execution_count": 6,
   "id": "cb2da580",
   "metadata": {},
   "outputs": [
    {
     "name": "stdout",
     "output_type": "stream",
     "text": [
      "30 25 "
     ]
    }
   ],
   "source": [
    "my_list = LinkedList()\n",
    "my_list.insert_at_start(10)\n",
    "my_list.insert_at_start(20)\n",
    "my_list.insert_at_last(30)\n",
    "my_list.insert_at_last(40)\n",
    "my_list.insert_after(my_list.search(30), 25)\n",
    "my_list.delete_first()  \n",
    "my_list.delete_last()\n",
    "my_list.delete_item(10)\n",
    "my_list.print_list()  "
   ]
  },
  {
   "cell_type": "code",
   "execution_count": 2,
   "id": "111f8220",
   "metadata": {},
   "outputs": [],
   "source": [
    "arr = [10, 20, 10, 5, 15]"
   ]
  },
  {
   "cell_type": "code",
   "execution_count": 4,
   "id": "e28af1d3",
   "metadata": {},
   "outputs": [
    {
     "name": "stdout",
     "output_type": "stream",
     "text": [
      "\n",
      "Prefix array: [10, 30, 40, 45, 60]\n"
     ]
    }
   ],
   "source": [
    "prefix = []\n",
    "count=0\n",
    "for i in arr:\n",
    "    count += i\n",
    "    prefix.append(count)\n",
    "    \n",
    "print(\"\\nPrefix array:\", prefix)"
   ]
  },
  {
   "cell_type": "markdown",
   "id": "51643022",
   "metadata": {},
   "source": [
    "# Doubly Linked List"
   ]
  },
  {
   "cell_type": "code",
   "execution_count": null,
   "id": "ddac105e",
   "metadata": {},
   "outputs": [],
   "source": []
  }
 ],
 "metadata": {
  "kernelspec": {
   "display_name": "Python 3",
   "language": "python",
   "name": "python3"
  },
  "language_info": {
   "codemirror_mode": {
    "name": "ipython",
    "version": 3
   },
   "file_extension": ".py",
   "mimetype": "text/x-python",
   "name": "python",
   "nbconvert_exporter": "python",
   "pygments_lexer": "ipython3",
   "version": "3.10.10"
  }
 },
 "nbformat": 4,
 "nbformat_minor": 5
}
