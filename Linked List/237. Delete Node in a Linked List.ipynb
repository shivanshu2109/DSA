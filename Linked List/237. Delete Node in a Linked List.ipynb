{
 "cells": [
  {
   "cell_type": "markdown",
   "id": "c7c1b8b5",
   "metadata": {},
   "source": [
    "**Problem Link**: [https://leetcode.com/problems/delete-node-in-a-linked-list/description/](https://leetcode.com/problems/delete-node-in-a-linked-list/description/)  \n",
    "**Solved On**: 2025-06-24  \n",
    "**Tags**: Linked List\n"
   ]
  },
  {
   "cell_type": "markdown",
   "id": "524c3b13",
   "metadata": {},
   "source": [
    "# basically the trick was we have direct access to the node which we want to delete .. so we just need to copy the next value to the node and skip the next the next value so the node will automatically gets deleted "
   ]
  },
  {
   "cell_type": "code",
   "execution_count": null,
   "id": "189bce2a",
   "metadata": {},
   "outputs": [],
   "source": [
    "class Solution:\n",
    "    def deleteNode(self, node):\n",
    "        \"\"\"\n",
    "        :type node: ListNode\n",
    "        :rtype: void Do not return anything, modify node in-place instead.\n",
    "        \"\"\"\n",
    "        node.val = node.next.val\n",
    "        node.next = node.next.next"
   ]
  }
 ],
 "metadata": {
  "language_info": {
   "name": "python"
  }
 },
 "nbformat": 4,
 "nbformat_minor": 5
}
