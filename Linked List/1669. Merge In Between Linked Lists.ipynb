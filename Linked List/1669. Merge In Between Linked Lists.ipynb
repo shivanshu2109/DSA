{
 "cells": [
  {
   "cell_type": "markdown",
   "id": "96bbcb2b",
   "metadata": {},
   "source": [
    "**Problem Link**: [https://leetcode.com/problems/merge-in-between-linked-lists/description/](https://leetcode.com/problems/merge-in-between-linked-lists/description/)  \n",
    "**Solved On**: 2025-06-26  \n",
    "**Tags**: Linked List\n"
   ]
  },
  {
   "cell_type": "code",
   "execution_count": null,
   "id": "bb456100",
   "metadata": {},
   "outputs": [],
   "source": [
    "# Definition for singly-linked list.\n",
    "# class ListNode:\n",
    "#     def __init__(self, val=0, next=None):\n",
    "#         self.val = val\n",
    "#         self.next = next\n",
    "class Solution:\n",
    "    def mergeInBetween(self, list1: ListNode, a: int, b: int, list2: ListNode) -> ListNode:\n",
    "        prevA = list1\n",
    "        index = 0\n",
    "\n",
    "        while index<a-1:\n",
    "            prevA =prevA.next\n",
    "            index+=1\n",
    "        \n",
    "        nodeB = prevA\n",
    "        while index<b:\n",
    "            nodeB =nodeB.next\n",
    "            index+=1\n",
    "        prevA.next = list2\n",
    "\n",
    "        tail = list2\n",
    "        while tail.next is not None:\n",
    "            tail = tail.next\n",
    "        tail.next = nodeB.next\n",
    "\n",
    "        return list1"
   ]
  }
 ],
 "metadata": {
  "language_info": {
   "name": "python"
  }
 },
 "nbformat": 4,
 "nbformat_minor": 5
}
