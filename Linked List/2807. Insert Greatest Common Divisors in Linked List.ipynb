{
 "cells": [
  {
   "cell_type": "markdown",
   "id": "6289cf98",
   "metadata": {},
   "source": [
    "**Problem Link**: [https://leetcode.com/problems/insert-greatest-common-divisors-in-linked-list/description/](https://leetcode.com/problems/insert-greatest-common-divisors-in-linked-list/description/)  \n",
    "**Solved On**: 2025-06-23  \n",
    "**Tags**: Linked List\n"
   ]
  },
  {
   "cell_type": "code",
   "execution_count": 1,
   "id": "12ced142",
   "metadata": {},
   "outputs": [],
   "source": [
    "head = [18,6,10,3]"
   ]
  },
  {
   "cell_type": "code",
   "execution_count": null,
   "id": "3d2c791e",
   "metadata": {},
   "outputs": [],
   "source": [
    "def greatestCommondivisor(a, b):\n",
    "    while b != 0:\n",
    "        a, b = b, a % b\n",
    "    return a\n",
    "\n",
    "prev = head\n",
    "current = getattr(head, 'next', None)\n",
    "while current is not None:\n",
    "    gcd = greatestCommondivisor(getattr(prev, 'val', prev), getattr(current, 'val', current))\n",
    "    new_node = ListNode(gcd)\n",
    "    new_node.next = current\n",
    "    prev.next = new_node\n",
    "    prev = current\n",
    "    current = current.next\n",
    "\n",
    "        "
   ]
  }
 ],
 "metadata": {
  "kernelspec": {
   "display_name": "Python 3",
   "language": "python",
   "name": "python3"
  },
  "language_info": {
   "codemirror_mode": {
    "name": "ipython",
    "version": 3
   },
   "file_extension": ".py",
   "mimetype": "text/x-python",
   "name": "python",
   "nbconvert_exporter": "python",
   "pygments_lexer": "ipython3",
   "version": "3.10.10"
  }
 },
 "nbformat": 4,
 "nbformat_minor": 5
}
