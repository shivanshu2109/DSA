{
 "cells": [
  {
   "cell_type": "markdown",
   "id": "3292dae3",
   "metadata": {},
   "source": [
    "**Problem Link**: [https://leetcode.com/problems/merge-two-sorted-lists/description/](https://leetcode.com/problems/merge-two-sorted-lists/description/)  \n",
    "**Solved On**: 2025-06-27  \n",
    "**Tags**: Linked List\n"
   ]
  },
  {
   "cell_type": "code",
   "execution_count": 22,
   "id": "e4501113",
   "metadata": {},
   "outputs": [],
   "source": [
    "class ListNode:\n",
    "    def __init__(self, val=0, next=None):\n",
    "        self.val = val\n",
    "        self.next = next\n",
    "def mergeTwoLists(list1, list2):\n",
    "    dummy = ListNode(0)\n",
    "    current_1 = list1\n",
    "    current_2 = list2\n",
    "    tail = dummy\n",
    "\n",
    "    while current_1 and current_2:\n",
    "        if current_1.val < current_2.val:\n",
    "            tail.next = current_1\n",
    "            current_1 = current_1.next\n",
    "        else:\n",
    "            tail.next = current_2\n",
    "            current_2 = current_2.next\n",
    "        tail = tail.next\n",
    "\n",
    "    # Attach the remaining nodes\n",
    "    if current_1:\n",
    "        tail.next = current_1\n",
    "    else:\n",
    "        tail.next = current_2\n",
    "\n",
    "    return dummy.next"
   ]
  },
  {
   "cell_type": "code",
   "execution_count": 23,
   "id": "38b4aad9",
   "metadata": {},
   "outputs": [],
   "source": [
    "def printList(head):\n",
    "    while head:\n",
    "        print(head.val, end=\" -> \")\n",
    "        head = head.next\n",
    "    print(\"None\")"
   ]
  },
  {
   "cell_type": "code",
   "execution_count": 24,
   "id": "92b5e935",
   "metadata": {},
   "outputs": [
    {
     "name": "stdout",
     "output_type": "stream",
     "text": [
      "Merged List:\n",
      "1 -> 1 -> 2 -> 3 -> 4 -> 4 -> None\n"
     ]
    }
   ],
   "source": [
    "list1  = ListNode(1, ListNode(2, ListNode(4)))\n",
    "list2 = ListNode(1, ListNode(3, ListNode(4)))\n",
    "merged_head = mergeTwoLists(list1, list2)\n",
    "print(\"Merged List:\")\n",
    "printList(merged_head)"
   ]
  }
 ],
 "metadata": {
  "kernelspec": {
   "display_name": "Python 3",
   "language": "python",
   "name": "python3"
  },
  "language_info": {
   "codemirror_mode": {
    "name": "ipython",
    "version": 3
   },
   "file_extension": ".py",
   "mimetype": "text/x-python",
   "name": "python",
   "nbconvert_exporter": "python",
   "pygments_lexer": "ipython3",
   "version": "3.10.10"
  }
 },
 "nbformat": 4,
 "nbformat_minor": 5
}
