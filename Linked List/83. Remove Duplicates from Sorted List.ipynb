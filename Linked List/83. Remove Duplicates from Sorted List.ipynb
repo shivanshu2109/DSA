{
 "cells": [
  {
   "cell_type": "markdown",
   "id": "a1c79bb0",
   "metadata": {},
   "source": [
    "**Problem Link**: [https://leetcode.com/problems/remove-duplicates-from-sorted-list/description/](https://leetcode.com/problems/remove-duplicates-from-sorted-list/description/)  \n",
    "**Solved On**: 2025-06-27  \n",
    "**Tags**: Linked List\n"
   ]
  },
  {
   "cell_type": "code",
   "execution_count": 6,
   "id": "8dc25710",
   "metadata": {},
   "outputs": [],
   "source": [
    "class ListNode:\n",
    "    def __init__(self, val=0, next=None):\n",
    "        self.val = val\n",
    "        self.next = next"
   ]
  },
  {
   "cell_type": "code",
   "execution_count": 7,
   "id": "d287d143",
   "metadata": {},
   "outputs": [],
   "source": [
    "def deleteDuplicates(head):\n",
    "    prev = head\n",
    "    current = head.next if head else None\n",
    "    while current is not None:\n",
    "        if current.val==prev.val:\n",
    "            prev.next = current.next\n",
    "        else:\n",
    "            prev = current\n",
    "        current = current.next\n",
    "    return head\n",
    "      "
   ]
  },
  {
   "cell_type": "code",
   "execution_count": 12,
   "id": "93746931",
   "metadata": {},
   "outputs": [],
   "source": [
    "head  = ListNode(1, ListNode(1, ListNode(2, ListNode(3, ListNode(3)))))"
   ]
  },
  {
   "cell_type": "code",
   "execution_count": 13,
   "id": "005966b8",
   "metadata": {},
   "outputs": [
    {
     "name": "stdout",
     "output_type": "stream",
     "text": [
      "1 -> 2 -> 3 -> None\n"
     ]
    }
   ],
   "source": [
    "ans = deleteDuplicates(head)\n",
    "def printList(head):\n",
    "    current = head\n",
    "    while current:\n",
    "        print(current.val, end=\" -> \")\n",
    "        current = current.next\n",
    "    print(\"None\")\n",
    "printList(ans)"
   ]
  }
 ],
 "metadata": {
  "kernelspec": {
   "display_name": "Python 3",
   "language": "python",
   "name": "python3"
  },
  "language_info": {
   "codemirror_mode": {
    "name": "ipython",
    "version": 3
   },
   "file_extension": ".py",
   "mimetype": "text/x-python",
   "name": "python",
   "nbconvert_exporter": "python",
   "pygments_lexer": "ipython3",
   "version": "3.10.10"
  }
 },
 "nbformat": 4,
 "nbformat_minor": 5
}
