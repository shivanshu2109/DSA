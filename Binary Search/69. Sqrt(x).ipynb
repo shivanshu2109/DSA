{
 "cells": [
  {
   "cell_type": "markdown",
   "id": "bc46bc5b",
   "metadata": {},
   "source": [
    "**Problem Link**: [https://leetcode.com/problems/sqrtx/description/](https://leetcode.com/problems/sqrtx/description/)  \n",
    "**Solved On**: 2025-07-14  \n",
    "**Tags**: Binary Search\n"
   ]
  },
  {
   "cell_type": "code",
   "execution_count": 1,
   "id": "3531b366",
   "metadata": {},
   "outputs": [
    {
     "name": "stdout",
     "output_type": "stream",
     "text": [
      "2\n"
     ]
    }
   ],
   "source": [
    "def mySqrt(x):\n",
    "    if x == 0:\n",
    "        return 0\n",
    "    first, last = 1, x\n",
    "    while first <= last:\n",
    "        mid = first + (last - first) // 2\n",
    "        if mid == x // mid:\n",
    "            return mid\n",
    "        elif mid > x // mid:\n",
    "            last = mid - 1\n",
    "        else:\n",
    "            first = mid + 1\n",
    "    return last\n",
    "\n",
    "# Example usage:\n",
    "x = 8\n",
    "result = mySqrt(x)\n",
    "print(result)"
   ]
  }
 ],
 "metadata": {
  "kernelspec": {
   "display_name": "Python 3",
   "language": "python",
   "name": "python3"
  },
  "language_info": {
   "codemirror_mode": {
    "name": "ipython",
    "version": 3
   },
   "file_extension": ".py",
   "mimetype": "text/x-python",
   "name": "python",
   "nbconvert_exporter": "python",
   "pygments_lexer": "ipython3",
   "version": "3.10.10"
  }
 },
 "nbformat": 4,
 "nbformat_minor": 5
}
