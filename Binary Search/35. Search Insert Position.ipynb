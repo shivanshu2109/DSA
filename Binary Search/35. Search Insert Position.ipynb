{
 "cells": [
  {
   "cell_type": "markdown",
   "id": "165a9b1f",
   "metadata": {},
   "source": [
    "**Problem Link**: [https://leetcode.com/problems/search-insert-position/description/](https://leetcode.com/problems/search-insert-position/description/)  \n",
    "**Solved On**: 2025-07-16  \n",
    "**Tags**: Binary Search\n"
   ]
  },
  {
   "cell_type": "code",
   "execution_count": 4,
   "id": "991bba8b",
   "metadata": {},
   "outputs": [],
   "source": [
    "nums = [1,3,5,6] \n",
    "target = 8"
   ]
  },
  {
   "cell_type": "code",
   "execution_count": 5,
   "id": "48d42ce1",
   "metadata": {},
   "outputs": [
    {
     "name": "stdout",
     "output_type": "stream",
     "text": [
      "4\n"
     ]
    }
   ],
   "source": [
    "if target in nums:\n",
    "    print(nums.index(target))\n",
    "else:\n",
    "    nums.append(target)\n",
    "    nums.sort()\n",
    "    print(nums.index(target))"
   ]
  },
  {
   "cell_type": "markdown",
   "id": "32fcfa88",
   "metadata": {},
   "source": [
    "# Efficient Way"
   ]
  },
  {
   "cell_type": "code",
   "execution_count": 6,
   "id": "b05d723b",
   "metadata": {},
   "outputs": [
    {
     "name": "stdout",
     "output_type": "stream",
     "text": [
      "4\n"
     ]
    }
   ],
   "source": [
    "import bisect\n",
    "\n",
    "index = bisect.bisect_left(nums, target)\n",
    "if index < len(nums) and nums[index] == target:\n",
    "    print(index)\n",
    "else:\n",
    "    nums.insert(index, target)  # Insert at correct sorted position\n",
    "    print(index)\n"
   ]
  }
 ],
 "metadata": {
  "kernelspec": {
   "display_name": "Python 3",
   "language": "python",
   "name": "python3"
  },
  "language_info": {
   "codemirror_mode": {
    "name": "ipython",
    "version": 3
   },
   "file_extension": ".py",
   "mimetype": "text/x-python",
   "name": "python",
   "nbconvert_exporter": "python",
   "pygments_lexer": "ipython3",
   "version": "3.10.10"
  }
 },
 "nbformat": 4,
 "nbformat_minor": 5
}
