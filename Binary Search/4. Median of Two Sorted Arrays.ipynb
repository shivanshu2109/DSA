{
 "cells": [
  {
   "cell_type": "markdown",
   "id": "40445613",
   "metadata": {},
   "source": [
    "**Problem Link**: [https://leetcode.com/problems/median-of-two-sorted-arrays/description/](https://leetcode.com/problems/median-of-two-sorted-arrays/description/)  \n",
    "**Solved On**: 2025-07-15  \n",
    "**Tags**: Array\n"
   ]
  },
  {
   "cell_type": "code",
   "execution_count": 10,
   "id": "87911db0",
   "metadata": {},
   "outputs": [],
   "source": [
    "nums1 = [1,3]\n",
    "nums2 = [2]"
   ]
  },
  {
   "cell_type": "code",
   "execution_count": 11,
   "id": "c5084527",
   "metadata": {},
   "outputs": [
    {
     "name": "stdout",
     "output_type": "stream",
     "text": [
      "2\n"
     ]
    }
   ],
   "source": [
    "# Combine and sort the two lists to find the median\n",
    "merged = sorted(nums1 + nums2)\n",
    "n = len(merged)\n",
    "if n % 2 == 1:\n",
    "\tres = merged[n // 2]\n",
    "else:\n",
    "\tres = (merged[n // 2 - 1] + merged[n // 2]) / 2\n",
    "print(res)  # Output: 2.0"
   ]
  }
 ],
 "metadata": {
  "kernelspec": {
   "display_name": "Python 3",
   "language": "python",
   "name": "python3"
  },
  "language_info": {
   "codemirror_mode": {
    "name": "ipython",
    "version": 3
   },
   "file_extension": ".py",
   "mimetype": "text/x-python",
   "name": "python",
   "nbconvert_exporter": "python",
   "pygments_lexer": "ipython3",
   "version": "3.10.10"
  }
 },
 "nbformat": 4,
 "nbformat_minor": 5
}
