{
 "cells": [
  {
   "cell_type": "markdown",
   "id": "7155de95",
   "metadata": {},
   "source": [
    "**Problem Link**: [https://leetcode.com/problems/two-sum-ii-input-array-is-sorted/description/](https://leetcode.com/problems/two-sum-ii-input-array-is-sorted/description/)  \n",
    "**Solved On**: 2025-08-31  \n",
    "**Tags**: Binary Search\n"
   ]
  },
  {
   "cell_type": "code",
   "execution_count": 2,
   "id": "11933ad2",
   "metadata": {},
   "outputs": [],
   "source": [
    "numbers = [2,7,11,15]\n",
    "target = 9"
   ]
  },
  {
   "cell_type": "code",
   "execution_count": 3,
   "id": "934b4fc9",
   "metadata": {},
   "outputs": [
    {
     "name": "stdout",
     "output_type": "stream",
     "text": [
      "[1, 2]\n"
     ]
    }
   ],
   "source": [
    "num_to_index = {}\n",
    "for idx, num in enumerate(numbers):\n",
    "    complement = target - num\n",
    "    if complement in num_to_index:\n",
    "        print([num_to_index[complement] + 1, idx + 1])\n",
    "        break\n",
    "    num_to_index[num] = idx"
   ]
  },
  {
   "cell_type": "markdown",
   "id": "1694897c",
   "metadata": {},
   "source": [
    "# binary search"
   ]
  },
  {
   "cell_type": "code",
   "execution_count": 4,
   "id": "ce1c2668",
   "metadata": {},
   "outputs": [
    {
     "name": "stdout",
     "output_type": "stream",
     "text": [
      "[1, 2]\n"
     ]
    }
   ],
   "source": [
    "def binary(arr,target,left):\n",
    "    right = len(arr) - 1\n",
    "    while left <= right:\n",
    "        mid = (left + right) // 2\n",
    "        if arr[mid] == target:\n",
    "            return mid\n",
    "        elif arr[mid] < target:\n",
    "            left = mid + 1\n",
    "        else:\n",
    "            right = mid - 1\n",
    "    return -1\n",
    "\n",
    "for i in range(len(numbers)):\n",
    "    complement = target - numbers[i]\n",
    "    j = binary(numbers, complement, i + 1)\n",
    "    if j != -1:\n",
    "        print([i + 1, j + 1])\n",
    "        break"
   ]
  }
 ],
 "metadata": {
  "kernelspec": {
   "display_name": "Python 3",
   "language": "python",
   "name": "python3"
  },
  "language_info": {
   "codemirror_mode": {
    "name": "ipython",
    "version": 3
   },
   "file_extension": ".py",
   "mimetype": "text/x-python",
   "name": "python",
   "nbconvert_exporter": "python",
   "pygments_lexer": "ipython3",
   "version": "3.10.10"
  }
 },
 "nbformat": 4,
 "nbformat_minor": 5
}
