{
 "cells": [
  {
   "cell_type": "markdown",
   "id": "494f1173",
   "metadata": {},
   "source": [
    "**Problem Link**: [https://leetcode.com/problems/binary-search/description/](https://leetcode.com/problems/binary-search/description/)  \n",
    "**Solved On**: 2025-08-21  \n",
    "**Tags**: Binary Search\n"
   ]
  },
  {
   "cell_type": "code",
   "execution_count": 5,
   "id": "35f164e3",
   "metadata": {},
   "outputs": [],
   "source": [
    "nums = [-1,0,3,5,9,12]\n",
    "target = 2"
   ]
  },
  {
   "cell_type": "code",
   "execution_count": null,
   "id": "0a6bb88b",
   "metadata": {},
   "outputs": [
    {
     "name": "stdout",
     "output_type": "stream",
     "text": [
      "-1\n"
     ]
    }
   ],
   "source": [
    "left, right = 0, len(nums) - 1\n",
    "while left <= right:\n",
    "    mid = left + (right-left)//2\n",
    "    if nums[mid] == target:\n",
    "        print(mid)\n",
    "        break\n",
    "    elif nums[mid] < target:\n",
    "        left = mid + 1\n",
    "    else:\n",
    "        right = mid - 1\n",
    "print(-1)  "
   ]
  },
  {
   "cell_type": "code",
   "execution_count": null,
   "id": "0d47ab1f",
   "metadata": {},
   "outputs": [],
   "source": []
  }
 ],
 "metadata": {
  "kernelspec": {
   "display_name": "Python 3",
   "language": "python",
   "name": "python3"
  },
  "language_info": {
   "codemirror_mode": {
    "name": "ipython",
    "version": 3
   },
   "file_extension": ".py",
   "mimetype": "text/x-python",
   "name": "python",
   "nbconvert_exporter": "python",
   "pygments_lexer": "ipython3",
   "version": "3.10.10"
  }
 },
 "nbformat": 4,
 "nbformat_minor": 5
}
