{
 "cells": [
  {
   "cell_type": "markdown",
   "id": "d3818f2c",
   "metadata": {},
   "source": [
    "**Problem Link**: [https://leetcode.com/problems/guess-number-higher-or-lower/description/](https://leetcode.com/problems/guess-number-higher-or-lower/description/)  \n",
    "**Solved On**: 2025-06-30  \n",
    "**Tags**: Binary Search\n"
   ]
  },
  {
   "cell_type": "code",
   "execution_count": 2,
   "id": "6f038083",
   "metadata": {},
   "outputs": [],
   "source": [
    "n = 10\n",
    "pick = 6"
   ]
  },
  {
   "cell_type": "code",
   "execution_count": null,
   "id": "ffee6bb7",
   "metadata": {},
   "outputs": [],
   "source": [
    "low = 1\n",
    "high = n\n",
    "while low<=high:\n",
    "    mid = (low+ high)//2\n",
    "    res = guess(mid)\n",
    "    if res ==0:\n",
    "        return mid\n",
    "    elif res < 0:\n",
    "        high = mid - 1\n",
    "    else:\n",
    "        low = mid + 1"
   ]
  }
 ],
 "metadata": {
  "kernelspec": {
   "display_name": "Python 3",
   "language": "python",
   "name": "python3"
  },
  "language_info": {
   "codemirror_mode": {
    "name": "ipython",
    "version": 3
   },
   "file_extension": ".py",
   "mimetype": "text/x-python",
   "name": "python",
   "nbconvert_exporter": "python",
   "pygments_lexer": "ipython3",
   "version": "3.10.10"
  }
 },
 "nbformat": 4,
 "nbformat_minor": 5
}
