{
 "cells": [
  {
   "cell_type": "markdown",
   "id": "25f4b91d",
   "metadata": {},
   "source": [
    "**Problem Link**: [https://leetcode.com/problems/find-first-and-last-position-of-element-in-sorted-array/description/](https://leetcode.com/problems/find-first-and-last-position-of-element-in-sorted-array/description/)  \n",
    "**Solved On**: 2025-07-20  \n",
    "**Tags**: Binary Search\n"
   ]
  },
  {
   "cell_type": "code",
   "execution_count": 1,
   "id": "dd347d47",
   "metadata": {},
   "outputs": [],
   "source": [
    "nums = [5,7,7,8,8,10]\n",
    "target = 8"
   ]
  },
  {
   "cell_type": "code",
   "execution_count": 3,
   "id": "c186ad60",
   "metadata": {},
   "outputs": [
    {
     "name": "stdout",
     "output_type": "stream",
     "text": [
      "[3, 4]\n"
     ]
    }
   ],
   "source": [
    "res_index = []\n",
    "for i in range(len(nums)):\n",
    "    if nums[i] == target:\n",
    "        res_index.append(i)\n",
    "if len(res_index) == 0:\n",
    "    res_index = [-1, -1]\n",
    "else:\n",
    "    res_index = [res_index[0], res_index[-1]]\n",
    "print(res_index)  # Output: [3, 4]"
   ]
  },
  {
   "cell_type": "code",
   "execution_count": 7,
   "id": "176876ab",
   "metadata": {},
   "outputs": [
    {
     "name": "stdout",
     "output_type": "stream",
     "text": [
      "[3, 4]\n"
     ]
    }
   ],
   "source": [
    "def binary_search(nums, target, find_first):\n",
    "    low, high = 0, len(nums) - 1\n",
    "    result  = -1\n",
    "    while low <= high:\n",
    "        mid = (low + high) // 2\n",
    "        if nums[mid] == target:\n",
    "            result = mid\n",
    "            if find_first:\n",
    "                high = mid - 1  # search left\n",
    "            else:\n",
    "                low = mid + 1 \n",
    "        elif nums[mid] < target:\n",
    "            low = mid + 1\n",
    "        else:\n",
    "            high = mid - 1\n",
    "    return result\n",
    "\n",
    "start = binary_search(nums, target, find_first=True)\n",
    "end = binary_search(nums, target, find_first=False)\n",
    "print([start, end])"
   ]
  }
 ],
 "metadata": {
  "kernelspec": {
   "display_name": "Python 3",
   "language": "python",
   "name": "python3"
  },
  "language_info": {
   "codemirror_mode": {
    "name": "ipython",
    "version": 3
   },
   "file_extension": ".py",
   "mimetype": "text/x-python",
   "name": "python",
   "nbconvert_exporter": "python",
   "pygments_lexer": "ipython3",
   "version": "3.10.10"
  }
 },
 "nbformat": 4,
 "nbformat_minor": 5
}
