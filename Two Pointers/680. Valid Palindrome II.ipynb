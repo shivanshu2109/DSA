{
 "cells": [
  {
   "cell_type": "markdown",
   "id": "85abfccc",
   "metadata": {},
   "source": [
    "**Problem Link**: [https://leetcode.com/problems/valid-palindrome-ii/description/](https://leetcode.com/problems/valid-palindrome-ii/description/)  \n",
    "**Solved On**: 2025-09-05  \n",
    "**Tags**: Two Pointers\n"
   ]
  },
  {
   "cell_type": "code",
   "execution_count": 13,
   "id": "868a3cd6",
   "metadata": {},
   "outputs": [],
   "source": [
    "s = \"abbda\""
   ]
  },
  {
   "cell_type": "code",
   "execution_count": 14,
   "id": "c5fcbcb8",
   "metadata": {},
   "outputs": [
    {
     "name": "stdout",
     "output_type": "stream",
     "text": [
      "True\n",
      "True\n"
     ]
    }
   ],
   "source": [
    "l, r = 0, len(s) - 1\n",
    "while l < r:\n",
    "    if s[l]!=s[r]:\n",
    "        skip_l, skip_r = s[l+1:r+1], s[l:r]\n",
    "        if skip_l == skip_l[::-1] or skip_r == skip_r[::-1]:\n",
    "            print(True)\n",
    "            break\n",
    "    l,r  = l+1, r-1\n",
    "print(True)"
   ]
  }
 ],
 "metadata": {
  "kernelspec": {
   "display_name": "Python 3",
   "language": "python",
   "name": "python3"
  },
  "language_info": {
   "codemirror_mode": {
    "name": "ipython",
    "version": 3
   },
   "file_extension": ".py",
   "mimetype": "text/x-python",
   "name": "python",
   "nbconvert_exporter": "python",
   "pygments_lexer": "ipython3",
   "version": "3.10.10"
  }
 },
 "nbformat": 4,
 "nbformat_minor": 5
}
