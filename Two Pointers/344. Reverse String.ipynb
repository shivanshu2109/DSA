{
 "cells": [
  {
   "cell_type": "markdown",
   "id": "01d16c46",
   "metadata": {},
   "source": [
    "**Problem Link**: [https://leetcode.com/problems/reverse-string/description/](https://leetcode.com/problems/reverse-string/description/)  \n",
    "**Solved On**: 2025-08-19  \n",
    "**Tags**: Two Pointers\n"
   ]
  },
  {
   "cell_type": "code",
   "execution_count": 1,
   "id": "6948b259",
   "metadata": {},
   "outputs": [],
   "source": [
    "s = [\"h\",\"e\",\"l\",\"l\",\"o\"]"
   ]
  },
  {
   "cell_type": "code",
   "execution_count": 3,
   "id": "9ab62d5f",
   "metadata": {},
   "outputs": [
    {
     "name": "stdout",
     "output_type": "stream",
     "text": [
      "['o', 'l', 'l', 'e', 'h']\n"
     ]
    }
   ],
   "source": [
    "left, right = 0, len(s) - 1\n",
    "while left < right:\n",
    "    s[left], s[right] = s[right], s[left]\n",
    "    left += 1\n",
    "    right -= 1\n",
    "print(s)"
   ]
  }
 ],
 "metadata": {
  "kernelspec": {
   "display_name": "Python 3",
   "language": "python",
   "name": "python3"
  },
  "language_info": {
   "codemirror_mode": {
    "name": "ipython",
    "version": 3
   },
   "file_extension": ".py",
   "mimetype": "text/x-python",
   "name": "python",
   "nbconvert_exporter": "python",
   "pygments_lexer": "ipython3",
   "version": "3.10.10"
  }
 },
 "nbformat": 4,
 "nbformat_minor": 5
}
