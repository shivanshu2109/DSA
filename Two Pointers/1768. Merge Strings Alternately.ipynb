{
 "cells": [
  {
   "cell_type": "markdown",
   "id": "c777235e",
   "metadata": {},
   "source": [
    "**Problem Link**: [https://leetcode.com/problems/merge-strings-alternately/description/](https://leetcode.com/problems/merge-strings-alternately/description/)  \n",
    "**Solved On**: 2025-09-05  \n",
    "**Tags**: Two Pointers\n"
   ]
  },
  {
   "cell_type": "code",
   "execution_count": 1,
   "id": "6c7938a7",
   "metadata": {},
   "outputs": [],
   "source": [
    "word1 = \"abcd\"\n",
    "word2 = \"pq\""
   ]
  },
  {
   "cell_type": "code",
   "execution_count": 2,
   "id": "b81e7aa9",
   "metadata": {},
   "outputs": [
    {
     "name": "stdout",
     "output_type": "stream",
     "text": [
      "apbqcd\n"
     ]
    }
   ],
   "source": [
    "new_word = \"\"\n",
    "i = 0\n",
    "j = 0\n",
    "while i < len(word1) and j < len(word2):\n",
    "    new_word += word1[i] + word2[j]\n",
    "    i += 1\n",
    "    j += 1\n",
    "new_word += word1[i:] + word2[j:]\n",
    "print(new_word)"
   ]
  }
 ],
 "metadata": {
  "kernelspec": {
   "display_name": "Python 3",
   "language": "python",
   "name": "python3"
  },
  "language_info": {
   "codemirror_mode": {
    "name": "ipython",
    "version": 3
   },
   "file_extension": ".py",
   "mimetype": "text/x-python",
   "name": "python",
   "nbconvert_exporter": "python",
   "pygments_lexer": "ipython3",
   "version": "3.10.10"
  }
 },
 "nbformat": 4,
 "nbformat_minor": 5
}
