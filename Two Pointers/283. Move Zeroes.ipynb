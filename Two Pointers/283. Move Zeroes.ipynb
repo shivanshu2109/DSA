{
 "cells": [
  {
   "cell_type": "markdown",
   "id": "763c855c",
   "metadata": {},
   "source": [
    "**Problem Link**: [https://leetcode.com/problems/move-zeroes/description/](https://leetcode.com/problems/move-zeroes/description/)  \n",
    "**Solved On**: 2025-09-07  \n",
    "**Tags**: Two Pointers\n"
   ]
  },
  {
   "cell_type": "code",
   "execution_count": 15,
   "id": "2129faa2",
   "metadata": {},
   "outputs": [],
   "source": [
    "nums = [0,1,0,3,12]"
   ]
  },
  {
   "cell_type": "code",
   "execution_count": null,
   "id": "bb25cc6a",
   "metadata": {},
   "outputs": [
    {
     "name": "stdout",
     "output_type": "stream",
     "text": [
      "[1, 3, 12, 0, 0]\n"
     ]
    }
   ],
   "source": [
    "left = 0\n",
    "for right in range(len(nums)):\n",
    "    if nums[right] != 0:\n",
    "        nums[left], nums[right] = nums[right], nums[left]\n",
    "        left += 1\n",
    "print(nums)"
   ]
  }
 ],
 "metadata": {
  "kernelspec": {
   "display_name": "Python 3",
   "language": "python",
   "name": "python3"
  },
  "language_info": {
   "codemirror_mode": {
    "name": "ipython",
    "version": 3
   },
   "file_extension": ".py",
   "mimetype": "text/x-python",
   "name": "python",
   "nbconvert_exporter": "python",
   "pygments_lexer": "ipython3",
   "version": "3.10.10"
  }
 },
 "nbformat": 4,
 "nbformat_minor": 5
}
