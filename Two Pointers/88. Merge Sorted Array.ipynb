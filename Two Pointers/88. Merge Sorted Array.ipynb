{
 "cells": [
  {
   "cell_type": "markdown",
   "id": "f5bbd425",
   "metadata": {},
   "source": [
    "**Problem Link**: [https://leetcode.com/problems/merge-sorted-array/description/](https://leetcode.com/problems/merge-sorted-array/description/)  \n",
    "**Solved On**: 2025-09-06  \n",
    "**Tags**: Two Pointers\n"
   ]
  },
  {
   "cell_type": "code",
   "execution_count": 1,
   "id": "daf0f313",
   "metadata": {},
   "outputs": [],
   "source": [
    "nums1 = [1,2,3,0,0,0]\n",
    "m = 3\n",
    "nums2 = [2,5,6]\n",
    "n = 3"
   ]
  },
  {
   "cell_type": "code",
   "execution_count": 3,
   "id": "9f30a32a",
   "metadata": {},
   "outputs": [],
   "source": [
    "nums1 = [1]\n",
    "m = 1\n",
    "nums2 = []\n",
    "n = 0"
   ]
  },
  {
   "cell_type": "code",
   "execution_count": 5,
   "id": "605e0f2f",
   "metadata": {},
   "outputs": [],
   "source": [
    "nums1 = [0]\n",
    "m = 0\n",
    "nums2 = [1]\n",
    "n = 1"
   ]
  },
  {
   "cell_type": "code",
   "execution_count": 6,
   "id": "59219135",
   "metadata": {},
   "outputs": [
    {
     "name": "stdout",
     "output_type": "stream",
     "text": [
      "[1]\n"
     ]
    }
   ],
   "source": [
    "while m > 0 and n > 0:\n",
    "    if nums1[m-1] > nums2[n-1]:\n",
    "        nums1[m+n-1] = nums1[m-1]\n",
    "        m -= 1\n",
    "    else:\n",
    "        nums1[m+n-1] = nums2[n-1]\n",
    "        n -= 1\n",
    "if n > 0:\n",
    "    nums1[:n] = nums2[:n]   \n",
    "print(nums1)"
   ]
  }
 ],
 "metadata": {
  "kernelspec": {
   "display_name": "Python 3",
   "language": "python",
   "name": "python3"
  },
  "language_info": {
   "codemirror_mode": {
    "name": "ipython",
    "version": 3
   },
   "file_extension": ".py",
   "mimetype": "text/x-python",
   "name": "python",
   "nbconvert_exporter": "python",
   "pygments_lexer": "ipython3",
   "version": "3.10.10"
  }
 },
 "nbformat": 4,
 "nbformat_minor": 5
}
