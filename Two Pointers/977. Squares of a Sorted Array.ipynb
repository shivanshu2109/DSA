{
 "cells": [
  {
   "cell_type": "markdown",
   "id": "347d82a8",
   "metadata": {},
   "source": [
    "**Problem Link**: [https://leetcode.com/problems/squares-of-a-sorted-array/description/](https://leetcode.com/problems/squares-of-a-sorted-array/description/)  \n",
    "**Solved On**: 2025-09-10  \n",
    "**Tags**: Two Pointers\n"
   ]
  },
  {
   "cell_type": "code",
   "execution_count": 6,
   "id": "67c3cafc",
   "metadata": {},
   "outputs": [],
   "source": [
    "nums = [-7,-3,2,3,11]"
   ]
  },
  {
   "cell_type": "code",
   "execution_count": 7,
   "id": "50f61a9c",
   "metadata": {},
   "outputs": [
    {
     "name": "stdout",
     "output_type": "stream",
     "text": [
      "[4, 9, 9, 49, 121]\n"
     ]
    }
   ],
   "source": [
    "for i in range(len(nums)):\n",
    "    for j in range(i+1,len(nums)):\n",
    "        if abs(nums[i]) > abs(nums[j]):\n",
    "            nums[i], nums[j] = nums[j], nums[i]\n",
    "print([i**2 for i in nums])\n"
   ]
  },
  {
   "cell_type": "code",
   "execution_count": 8,
   "id": "6cbf5ccc",
   "metadata": {},
   "outputs": [
    {
     "name": "stdout",
     "output_type": "stream",
     "text": [
      "[4, 9, 9, 49, 121]\n"
     ]
    }
   ],
   "source": [
    "for i in range(len(nums)-1):\n",
    "    if abs(nums[i+1])> abs(nums[i]):\n",
    "        continue\n",
    "    elif abs(nums[i+1]< abs(nums[i])):\n",
    "        nums[i], nums[i+1] = nums[i+1], nums[i]\n",
    "print([i**2 for i in nums])\n",
    "        "
   ]
  },
  {
   "cell_type": "code",
   "execution_count": null,
   "id": "664db288",
   "metadata": {},
   "outputs": [],
   "source": [
    "class Solution:\n",
    "    def sortedSquares(self, nums: List[int]) -> List[int]:\n",
    "        result = [1] * len(nums)\n",
    "        left,right = 0, len(nums) - 1\n",
    "        pos = len(nums) - 1\n",
    "\n",
    "        while left <= right:\n",
    "            if abs(nums[left]) > abs(nums[right]):\n",
    "                result[pos] = nums[left] ** 2\n",
    "                left += 1\n",
    "            \n",
    "            else:\n",
    "                result[pos] = nums[right] ** 2\n",
    "                right -= 1\n",
    "            \n",
    "            pos -= 1\n",
    "        \n",
    "        return result"
   ]
  }
 ],
 "metadata": {
  "kernelspec": {
   "display_name": "Python 3",
   "language": "python",
   "name": "python3"
  },
  "language_info": {
   "codemirror_mode": {
    "name": "ipython",
    "version": 3
   },
   "file_extension": ".py",
   "mimetype": "text/x-python",
   "name": "python",
   "nbconvert_exporter": "python",
   "pygments_lexer": "ipython3",
   "version": "3.10.10"
  }
 },
 "nbformat": 4,
 "nbformat_minor": 5
}
