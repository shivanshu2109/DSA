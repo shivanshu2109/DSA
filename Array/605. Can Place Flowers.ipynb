{
 "cells": [
  {
   "cell_type": "markdown",
   "id": "855b41bf",
   "metadata": {},
   "source": [
    "**Problem Link**: [https://leetcode.com/problems/can-place-flowers/description/](https://leetcode.com/problems/can-place-flowers/description/)  \n",
    "**Solved On**: 2025-08-29  \n",
    "**Tags**: Array\n"
   ]
  },
  {
   "cell_type": "code",
   "execution_count": null,
   "id": "ffa0ec3f",
   "metadata": {},
   "outputs": [],
   "source": [
    "class Solution:\n",
    "    def canPlaceFlowers(self, flowerbed: List[int], n: int) -> bool:\n",
    "        f = [0] + flowerbed + [0]\n",
    "        for i in range(1, len(f)-1):\n",
    "            if f[i-1]==0 and f[i] ==0 and f[i+1]==0:\n",
    "                f[i] = 1\n",
    "                n-=1\n",
    "        return n<=0\n",
    "        "
   ]
  }
 ],
 "metadata": {
  "kernelspec": {
   "display_name": "Python 3",
   "language": "python",
   "name": "python3"
  },
  "language_info": {
   "name": "python",
   "version": "3.10.10"
  }
 },
 "nbformat": 4,
 "nbformat_minor": 5
}
