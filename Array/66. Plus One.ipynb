{
 "cells": [
  {
   "cell_type": "markdown",
   "id": "070bece9",
   "metadata": {},
   "source": [
    "**Problem Link**: [https://leetcode.com/problems/plus-one/description/](https://leetcode.com/problems/plus-one/description/)  \n",
    "**Solved On**: 2025-07-17  \n",
    "**Tags**: Array\n"
   ]
  },
  {
   "cell_type": "code",
   "execution_count": 14,
   "id": "bf2536b1",
   "metadata": {},
   "outputs": [],
   "source": [
    "digits = [4,3,2,1]"
   ]
  },
  {
   "cell_type": "code",
   "execution_count": 15,
   "id": "45f9a4ed",
   "metadata": {},
   "outputs": [
    {
     "name": "stdout",
     "output_type": "stream",
     "text": [
      "[4, 3, 2, 2]\n"
     ]
    }
   ],
   "source": [
    "string_digits = ''.join(map(str, digits))\n",
    "res = int(string_digits)+1\n",
    "ans = []\n",
    "for i in str(res):\n",
    "    ans.append(int(i))\n",
    "print(ans)"
   ]
  }
 ],
 "metadata": {
  "kernelspec": {
   "display_name": "Python 3",
   "language": "python",
   "name": "python3"
  },
  "language_info": {
   "codemirror_mode": {
    "name": "ipython",
    "version": 3
   },
   "file_extension": ".py",
   "mimetype": "text/x-python",
   "name": "python",
   "nbconvert_exporter": "python",
   "pygments_lexer": "ipython3",
   "version": "3.10.10"
  }
 },
 "nbformat": 4,
 "nbformat_minor": 5
}
