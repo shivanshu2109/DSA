{
 "cells": [
  {
   "cell_type": "markdown",
   "id": "8f98c981",
   "metadata": {},
   "source": [
    "**Problem Link**: [https://leetcode.com/problems/find-all-numbers-disappeared-in-an-array/description/](https://leetcode.com/problems/find-all-numbers-disappeared-in-an-array/description/)  \n",
    "**Solved On**: 2025-07-03  \n",
    "**Tags**: Array\n"
   ]
  },
  {
   "cell_type": "code",
   "execution_count": 16,
   "id": "3e7aee20",
   "metadata": {},
   "outputs": [],
   "source": [
    "nums = [4,3,2,7,8,2,3,1]"
   ]
  },
  {
   "cell_type": "markdown",
   "id": "471afa8b",
   "metadata": {},
   "source": [
    "# brute force way O(N^2)"
   ]
  },
  {
   "cell_type": "code",
   "execution_count": 17,
   "id": "d0e5d5b0",
   "metadata": {},
   "outputs": [
    {
     "name": "stdout",
     "output_type": "stream",
     "text": [
      "[5, 6]\n"
     ]
    }
   ],
   "source": [
    "res = []\n",
    "for i in range(1, len(nums) + 1):\n",
    "    if i not in nums:\n",
    "        res.append(i)\n",
    "print(res)"
   ]
  },
  {
   "cell_type": "markdown",
   "id": "a225e07a",
   "metadata": {},
   "source": [
    "# Best way"
   ]
  },
  {
   "cell_type": "code",
   "execution_count": 19,
   "id": "19a542f1",
   "metadata": {},
   "outputs": [
    {
     "name": "stdout",
     "output_type": "stream",
     "text": [
      "[-4, -3, -2, -7, 8, 2, -3, -1]\n",
      "[5, 6]\n"
     ]
    }
   ],
   "source": [
    "for i in nums:\n",
    "    index = abs(i)-1\n",
    "    nums[index] = -abs(nums[index])\n",
    "print(nums)\n",
    "\n",
    "result = []\n",
    "for i in range(len(nums)):\n",
    "    if nums[i]>0:\n",
    "        result.append(i+1)\n",
    "print(result)"
   ]
  }
 ],
 "metadata": {
  "kernelspec": {
   "display_name": "Python 3",
   "language": "python",
   "name": "python3"
  },
  "language_info": {
   "codemirror_mode": {
    "name": "ipython",
    "version": 3
   },
   "file_extension": ".py",
   "mimetype": "text/x-python",
   "name": "python",
   "nbconvert_exporter": "python",
   "pygments_lexer": "ipython3",
   "version": "3.10.10"
  }
 },
 "nbformat": 4,
 "nbformat_minor": 5
}
