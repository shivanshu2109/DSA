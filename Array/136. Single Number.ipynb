{
 "cells": [
  {
   "cell_type": "markdown",
   "id": "9727b4f5",
   "metadata": {},
   "source": [
    "**Problem Link**: [https://leetcode.com/problems/single-number/description/](https://leetcode.com/problems/single-number/description/)  \n",
    "**Solved On**: 2025-07-04  \n",
    "**Tags**: Array\n"
   ]
  },
  {
   "cell_type": "code",
   "execution_count": 10,
   "id": "acc392c6",
   "metadata": {},
   "outputs": [],
   "source": [
    "nums = [4,1,2,1,2]"
   ]
  },
  {
   "cell_type": "markdown",
   "id": "cf3bc44a",
   "metadata": {},
   "source": [
    "# Using XOR operation\n",
    "\n",
    "The XOR operator has these important properties:\n",
    "\n",
    "x ^ x = 0 → any number XOR itself is 0.\n",
    "\n",
    "x ^ 0 = x → XOR with 0 returns the number itself."
   ]
  },
  {
   "cell_type": "code",
   "execution_count": 3,
   "id": "413fe5d5",
   "metadata": {},
   "outputs": [
    {
     "name": "stdout",
     "output_type": "stream",
     "text": [
      "1\n"
     ]
    }
   ],
   "source": [
    "def singleNumber(nums):\n",
    "    result = 0\n",
    "    for num in nums:\n",
    "        result ^= num\n",
    "    return result\n",
    "\n",
    "print(singleNumber(nums))  # Output: 1"
   ]
  },
  {
   "cell_type": "markdown",
   "id": "6f226d41",
   "metadata": {},
   "source": [
    "# My method "
   ]
  },
  {
   "cell_type": "code",
   "execution_count": 11,
   "id": "6b181f83",
   "metadata": {},
   "outputs": [
    {
     "name": "stdout",
     "output_type": "stream",
     "text": [
      "4\n"
     ]
    }
   ],
   "source": [
    "for i in nums:\n",
    "    count = nums.count(i)\n",
    "    if count == 1:\n",
    "        print(i)  # Output: 1\n",
    "        break"
   ]
  }
 ],
 "metadata": {
  "kernelspec": {
   "display_name": "Python 3",
   "language": "python",
   "name": "python3"
  },
  "language_info": {
   "codemirror_mode": {
    "name": "ipython",
    "version": 3
   },
   "file_extension": ".py",
   "mimetype": "text/x-python",
   "name": "python",
   "nbconvert_exporter": "python",
   "pygments_lexer": "ipython3",
   "version": "3.10.10"
  }
 },
 "nbformat": 4,
 "nbformat_minor": 5
}
