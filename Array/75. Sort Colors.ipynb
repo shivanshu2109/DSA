{
 "cells": [
  {
   "cell_type": "markdown",
   "id": "e5b20fc6",
   "metadata": {},
   "source": [
    "**Problem Link**: [https://leetcode.com/problems/sort-colors/description/](https://leetcode.com/problems/sort-colors/description/)  \n",
    "**Solved On**: 2025-07-18  \n",
    "**Tags**: Array\n"
   ]
  },
  {
   "cell_type": "code",
   "execution_count": 1,
   "id": "a47f73b4",
   "metadata": {},
   "outputs": [],
   "source": [
    "nums = [2,0,2,1,1,0]"
   ]
  },
  {
   "cell_type": "code",
   "execution_count": 5,
   "id": "48cbd853",
   "metadata": {},
   "outputs": [
    {
     "name": "stdout",
     "output_type": "stream",
     "text": [
      "[0, 0, 1, 1, 2, 2]\n"
     ]
    }
   ],
   "source": [
    "for x in range(len(nums)):\n",
    "    for y in range(len(nums)-1-x):\n",
    "        if nums[y] > nums[y+1]:\n",
    "            nums[y], nums[y+1] = nums[y+1], nums[y]\n",
    "print(nums)\n",
    "        "
   ]
  }
 ],
 "metadata": {
  "kernelspec": {
   "display_name": "Python 3",
   "language": "python",
   "name": "python3"
  },
  "language_info": {
   "codemirror_mode": {
    "name": "ipython",
    "version": 3
   },
   "file_extension": ".py",
   "mimetype": "text/x-python",
   "name": "python",
   "nbconvert_exporter": "python",
   "pygments_lexer": "ipython3",
   "version": "3.10.10"
  }
 },
 "nbformat": 4,
 "nbformat_minor": 5
}
