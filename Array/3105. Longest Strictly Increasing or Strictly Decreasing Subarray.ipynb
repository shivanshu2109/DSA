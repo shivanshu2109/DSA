{
 "cells": [
  {
   "cell_type": "markdown",
   "id": "631cfadd",
   "metadata": {},
   "source": [
    "**Problem Link**: [https://leetcode.com/problems/longest-strictly-increasing-or-strictly-decreasing-subarray/description/](https://leetcode.com/problems/longest-strictly-increasing-or-strictly-decreasing-subarray/description/)  \n",
    "**Solved On**: 2025-08-30  \n",
    "**Tags**: Array\n"
   ]
  },
  {
   "cell_type": "code",
   "execution_count": 1,
   "id": "2830ffb1",
   "metadata": {},
   "outputs": [],
   "source": [
    "nums = [1,4,3,3,2]"
   ]
  },
  {
   "cell_type": "code",
   "execution_count": 3,
   "id": "37855812",
   "metadata": {},
   "outputs": [
    {
     "name": "stdout",
     "output_type": "stream",
     "text": [
      "2\n"
     ]
    }
   ],
   "source": [
    "curr = 1\n",
    "res = 1\n",
    "increasing = 0\n",
    "for i in range(1, len(nums)):\n",
    "    if nums[i-1]<nums[i]:\n",
    "        if increasing>0:\n",
    "            curr += 1\n",
    "        else:\n",
    "            curr = 2\n",
    "            increasing =1\n",
    "    elif nums[i-1]>nums[i]:\n",
    "        if increasing<0:\n",
    "            curr += 1\n",
    "        else:\n",
    "            curr = 2\n",
    "            increasing = -1\n",
    "    else:\n",
    "        curr = 1\n",
    "        increasing = 0\n",
    "    res = max(res, curr)\n",
    "print(res)"
   ]
  },
  {
   "cell_type": "code",
   "execution_count": null,
   "id": "5ffd796e",
   "metadata": {},
   "outputs": [],
   "source": []
  }
 ],
 "metadata": {
  "kernelspec": {
   "display_name": "Python 3",
   "language": "python",
   "name": "python3"
  },
  "language_info": {
   "codemirror_mode": {
    "name": "ipython",
    "version": 3
   },
   "file_extension": ".py",
   "mimetype": "text/x-python",
   "name": "python",
   "nbconvert_exporter": "python",
   "pygments_lexer": "ipython3",
   "version": "3.10.10"
  }
 },
 "nbformat": 4,
 "nbformat_minor": 5
}
