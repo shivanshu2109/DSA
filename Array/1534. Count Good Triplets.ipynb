{
 "cells": [
  {
   "cell_type": "markdown",
   "id": "84b45c68",
   "metadata": {},
   "source": [
    "**Problem Link**: [https://leetcode.com/problems/count-good-triplets/description/](https://leetcode.com/problems/count-good-triplets/description/)  \n",
    "**Solved On**: 2025-07-22  \n",
    "**Tags**: Array\n"
   ]
  },
  {
   "cell_type": "code",
   "execution_count": 1,
   "id": "ee8cb30f",
   "metadata": {},
   "outputs": [],
   "source": [
    "arr = [3,0,1,1,9,7]\n",
    "a = 7\n",
    "b = 2 \n",
    "c = 3"
   ]
  },
  {
   "cell_type": "code",
   "execution_count": null,
   "id": "eb879f42",
   "metadata": {},
   "outputs": [],
   "source": [
    "res = []\n",
    "for i in range(len(arr)):\n",
    "    for j in range(i+1, len(arr)):\n",
    "        for k in range(j+1, len(arr)):\n",
    "            if abs(arr[i] - arr[j]) <= a and abs(arr[j] - arr[k]) <= b and abs(arr[i] - arr[k]) <= c:\n",
    "                res.append((arr[i], arr[j], arr[k]))\n"
   ]
  },
  {
   "cell_type": "code",
   "execution_count": 6,
   "id": "7036eed7",
   "metadata": {},
   "outputs": [
    {
     "name": "stdout",
     "output_type": "stream",
     "text": [
      "[(3, 0, 1), (3, 0, 1), (3, 1, 1), (0, 1, 1)]\n"
     ]
    }
   ],
   "source": [
    "print(res)"
   ]
  }
 ],
 "metadata": {
  "kernelspec": {
   "display_name": "Python 3",
   "language": "python",
   "name": "python3"
  },
  "language_info": {
   "codemirror_mode": {
    "name": "ipython",
    "version": 3
   },
   "file_extension": ".py",
   "mimetype": "text/x-python",
   "name": "python",
   "nbconvert_exporter": "python",
   "pygments_lexer": "ipython3",
   "version": "3.10.10"
  }
 },
 "nbformat": 4,
 "nbformat_minor": 5
}
