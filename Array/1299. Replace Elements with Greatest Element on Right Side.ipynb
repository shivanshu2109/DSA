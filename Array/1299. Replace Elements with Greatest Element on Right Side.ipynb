{
 "cells": [
  {
   "cell_type": "markdown",
   "id": "da71489b",
   "metadata": {},
   "source": [
    "**Problem Link**: [https://leetcode.com/problems/replace-elements-with-greatest-element-on-right-side/description/](https://leetcode.com/problems/replace-elements-with-greatest-element-on-right-side/description/)  \n",
    "**Solved On**: 2025-07-26  \n",
    "**Tags**: Array\n"
   ]
  },
  {
   "cell_type": "code",
   "execution_count": 1,
   "id": "1ce81b9d",
   "metadata": {},
   "outputs": [],
   "source": [
    "arr = [17,18,5,4,6,1]"
   ]
  },
  {
   "cell_type": "code",
   "execution_count": 4,
   "id": "9d7170c1",
   "metadata": {},
   "outputs": [
    {
     "name": "stdout",
     "output_type": "stream",
     "text": [
      "[18, 6, 6, 6, 1, -1]\n"
     ]
    }
   ],
   "source": [
    "max_so_far = -1\n",
    "for i in range(len(arr) - 1, -1, -1):\n",
    "    current = arr[i]\n",
    "    arr[i] = max_so_far\n",
    "    max_so_far = max(max_so_far,current)\n",
    "print(arr)"
   ]
  }
 ],
 "metadata": {
  "kernelspec": {
   "display_name": "Python 3",
   "language": "python",
   "name": "python3"
  },
  "language_info": {
   "codemirror_mode": {
    "name": "ipython",
    "version": 3
   },
   "file_extension": ".py",
   "mimetype": "text/x-python",
   "name": "python",
   "nbconvert_exporter": "python",
   "pygments_lexer": "ipython3",
   "version": "3.10.10"
  }
 },
 "nbformat": 4,
 "nbformat_minor": 5
}
