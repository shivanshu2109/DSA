{
 "cells": [
  {
   "cell_type": "markdown",
   "id": "192e54eb",
   "metadata": {},
   "source": [
    "**Problem Link**: [https://leetcode.com/problems/best-time-to-buy-and-sell-stock/description/](https://leetcode.com/problems/best-time-to-buy-and-sell-stock/description/)  \n",
    "**Solved On**: 2025-07-07  \n",
    "**Tags**: Array\n"
   ]
  },
  {
   "cell_type": "code",
   "execution_count": 7,
   "id": "33aea97c",
   "metadata": {},
   "outputs": [],
   "source": [
    "prices = [7,1,5,3,6,4]"
   ]
  },
  {
   "cell_type": "code",
   "execution_count": 8,
   "id": "2af0f21a",
   "metadata": {},
   "outputs": [
    {
     "name": "stdout",
     "output_type": "stream",
     "text": [
      "5\n"
     ]
    }
   ],
   "source": [
    "buy = prices[0]\n",
    "sell = 0\n",
    "for i in range(1,len(prices)):\n",
    "    if prices[i]< buy:\n",
    "        buy = prices[i]\n",
    "    elif prices[i] - buy > sell:\n",
    "        sell = prices[i] - buy\n",
    "print(sell)"
   ]
  }
 ],
 "metadata": {
  "kernelspec": {
   "display_name": "Python 3",
   "language": "python",
   "name": "python3"
  },
  "language_info": {
   "codemirror_mode": {
    "name": "ipython",
    "version": 3
   },
   "file_extension": ".py",
   "mimetype": "text/x-python",
   "name": "python",
   "nbconvert_exporter": "python",
   "pygments_lexer": "ipython3",
   "version": "3.10.10"
  }
 },
 "nbformat": 4,
 "nbformat_minor": 5
}
