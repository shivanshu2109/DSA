{
 "cells": [
  {
   "cell_type": "markdown",
   "id": "03ca89d5",
   "metadata": {},
   "source": [
    "**Problem Link**: [https://leetcode.com/problems/unique-email-addresses/description/](https://leetcode.com/problems/unique-email-addresses/description/)  \n",
    "**Solved On**: 2025-08-25  \n",
    "**Tags**: Array\n"
   ]
  },
  {
   "cell_type": "code",
   "execution_count": 3,
   "id": "286dd368",
   "metadata": {},
   "outputs": [],
   "source": [
    "emails = [\"test.email+alex@leetcode.com\",\"test.e.mail+bob.cathy@leetcode.com\",\"testemail+david@lee.tcode.com\"]"
   ]
  },
  {
   "cell_type": "code",
   "execution_count": 5,
   "id": "45baa3b2",
   "metadata": {},
   "outputs": [
    {
     "name": "stdout",
     "output_type": "stream",
     "text": [
      "2\n"
     ]
    }
   ],
   "source": [
    "unique = set()\n",
    "\n",
    "for e in emails:\n",
    "    local, domain = e.split('@')\n",
    "    local = local.split('+')[0]\n",
    "    local = local.replace('.', '')\n",
    "    unique.add((local , domain))\n",
    "print(len(unique))"
   ]
  },
  {
   "cell_type": "code",
   "execution_count": 6,
   "id": "6d1a2b84",
   "metadata": {},
   "outputs": [
    {
     "name": "stdout",
     "output_type": "stream",
     "text": [
      "2\n"
     ]
    }
   ],
   "source": [
    "more_unque = set()\n",
    "for e in emails:\n",
    "    i , local = 0 ,\"\"\n",
    "    while e[i] not in ['+','@']:\n",
    "        if e[i] != '.':\n",
    "            local += e[i]\n",
    "        i += 1\n",
    "    while e[i] != '@':\n",
    "        i += 1\n",
    "    domain = e[i+1:]\n",
    "    more_unque.add((local , domain))\n",
    "print(len(more_unque))"
   ]
  }
 ],
 "metadata": {
  "kernelspec": {
   "display_name": "Python 3",
   "language": "python",
   "name": "python3"
  },
  "language_info": {
   "codemirror_mode": {
    "name": "ipython",
    "version": 3
   },
   "file_extension": ".py",
   "mimetype": "text/x-python",
   "name": "python",
   "nbconvert_exporter": "python",
   "pygments_lexer": "ipython3",
   "version": "3.10.10"
  }
 },
 "nbformat": 4,
 "nbformat_minor": 5
}
