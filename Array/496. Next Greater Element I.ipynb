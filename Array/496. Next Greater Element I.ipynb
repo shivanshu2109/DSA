{
 "cells": [
  {
   "cell_type": "markdown",
   "id": "b1446855",
   "metadata": {},
   "source": [
    "**Problem Link**: [https://leetcode.com/problems/next-greater-element-i/description/?roomId=uQIEGL](https://leetcode.com/problems/next-greater-element-i/description/?roomId=uQIEGL)  \n",
    "**Solved On**: 2025-08-29  \n",
    "**Tags**: Array\n"
   ]
  },
  {
   "cell_type": "code",
   "execution_count": 1,
   "id": "1da45c4f",
   "metadata": {},
   "outputs": [],
   "source": [
    "nums1 = [4,1,2]\n",
    "nums2 = [1,3,4,2]"
   ]
  },
  {
   "cell_type": "code",
   "execution_count": 7,
   "id": "4fd2292d",
   "metadata": {},
   "outputs": [
    {
     "name": "stdout",
     "output_type": "stream",
     "text": [
      "[-1, 3, -1]\n"
     ]
    }
   ],
   "source": [
    "res = []\n",
    "for i in nums1:\n",
    "    idx = nums2.index(i)\n",
    "    found = False\n",
    "    for j in range(idx, len(nums2)):\n",
    "        if nums2[j] > i:\n",
    "            res.append(nums2[j])\n",
    "            found = True\n",
    "            break\n",
    "    if not found:\n",
    "        res.append(-1)\n",
    "print(res)"
   ]
  }
 ],
 "metadata": {
  "kernelspec": {
   "display_name": "Python 3",
   "language": "python",
   "name": "python3"
  },
  "language_info": {
   "codemirror_mode": {
    "name": "ipython",
    "version": 3
   },
   "file_extension": ".py",
   "mimetype": "text/x-python",
   "name": "python",
   "nbconvert_exporter": "python",
   "pygments_lexer": "ipython3",
   "version": "3.10.10"
  }
 },
 "nbformat": 4,
 "nbformat_minor": 5
}
