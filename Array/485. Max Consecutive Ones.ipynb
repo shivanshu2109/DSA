{
 "cells": [
  {
   "cell_type": "markdown",
   "id": "4ddd8292",
   "metadata": {},
   "source": [
    "**Problem Link**: [https://leetcode.com/problems/max-consecutive-ones/description/](https://leetcode.com/problems/max-consecutive-ones/description/)  \n",
    "**Solved On**: 2025-08-13  \n",
    "**Tags**: Array\n"
   ]
  },
  {
   "cell_type": "code",
   "execution_count": null,
   "id": "86160930",
   "metadata": {},
   "outputs": [],
   "source": [
    "class Solution:\n",
    "    def findMaxConsecutiveOnes(self, nums: List[int]) -> int:\n",
    "        count = 0\n",
    "        max_count = 0\n",
    "        for i in nums:\n",
    "            if i==1:\n",
    "                count+=1\n",
    "                max_count = max(max_count,count)\n",
    "            else:\n",
    "                count = 0\n",
    "        return max_count\n",
    "        "
   ]
  }
 ],
 "metadata": {
  "kernelspec": {
   "display_name": "Python 3",
   "language": "python",
   "name": "python3"
  },
  "language_info": {
   "name": "python",
   "version": "3.10.10"
  }
 },
 "nbformat": 4,
 "nbformat_minor": 5
}
