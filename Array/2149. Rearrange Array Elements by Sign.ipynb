{
 "cells": [
  {
   "cell_type": "markdown",
   "id": "1efa4e73",
   "metadata": {},
   "source": [
    "**Problem Link**: [https://leetcode.com/problems/rearrange-array-elements-by-sign/description/](https://leetcode.com/problems/rearrange-array-elements-by-sign/description/)  \n",
    "**Solved On**: 2025-07-25  \n",
    "**Tags**: Array\n"
   ]
  },
  {
   "cell_type": "code",
   "execution_count": 1,
   "id": "3756378c",
   "metadata": {},
   "outputs": [],
   "source": [
    "nums = [-1,1]"
   ]
  },
  {
   "cell_type": "code",
   "execution_count": 2,
   "id": "93efaab7",
   "metadata": {},
   "outputs": [],
   "source": [
    "pos = []\n",
    "neg = []"
   ]
  },
  {
   "cell_type": "code",
   "execution_count": 3,
   "id": "32f4af90",
   "metadata": {},
   "outputs": [
    {
     "name": "stdout",
     "output_type": "stream",
     "text": [
      "[1]\n",
      "[-1]\n"
     ]
    }
   ],
   "source": [
    "for i in range (len(nums)):\n",
    "    if nums[i] >= 0:\n",
    "        pos.append(nums[i])\n",
    "    else:\n",
    "        neg.append(nums[i])\n",
    "res = []\n",
    "print(pos)\n",
    "print(neg)"
   ]
  },
  {
   "cell_type": "code",
   "execution_count": 4,
   "id": "dabccb1a",
   "metadata": {},
   "outputs": [
    {
     "name": "stdout",
     "output_type": "stream",
     "text": [
      "[1, -1]\n"
     ]
    }
   ],
   "source": [
    "i = 0\n",
    "j = 0\n",
    "while i <len(pos) and j < len(neg):\n",
    "    res.append(pos[i])\n",
    "    res.append(neg[j])\n",
    "    i += 1\n",
    "    j += 1\n",
    "\n",
    "print(res)"
   ]
  }
 ],
 "metadata": {
  "kernelspec": {
   "display_name": "Python 3",
   "language": "python",
   "name": "python3"
  },
  "language_info": {
   "codemirror_mode": {
    "name": "ipython",
    "version": 3
   },
   "file_extension": ".py",
   "mimetype": "text/x-python",
   "name": "python",
   "nbconvert_exporter": "python",
   "pygments_lexer": "ipython3",
   "version": "3.10.10"
  }
 },
 "nbformat": 4,
 "nbformat_minor": 5
}
