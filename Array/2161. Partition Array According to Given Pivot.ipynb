{
 "cells": [
  {
   "cell_type": "markdown",
   "id": "6409f542",
   "metadata": {},
   "source": [
    "**Problem Link**: [https://leetcode.com/problems/partition-array-according-to-given-pivot/description/](https://leetcode.com/problems/partition-array-according-to-given-pivot/description/)  \n",
    "**Solved On**: 2025-07-24  \n",
    "**Tags**: Array\n"
   ]
  },
  {
   "cell_type": "code",
   "execution_count": 8,
   "id": "ad9dd7ca",
   "metadata": {},
   "outputs": [],
   "source": [
    "nums = [9,12,5,10,14,3,10]\n",
    "pivot = 10"
   ]
  },
  {
   "cell_type": "code",
   "execution_count": null,
   "id": "49cd5bff",
   "metadata": {},
   "outputs": [
    {
     "name": "stdout",
     "output_type": "stream",
     "text": [
      "[9, 5, 3, 10, 10, 12, 14]\n"
     ]
    }
   ],
   "source": [
    "less = []\n",
    "equal = []\n",
    "greater = []\n",
    "for i in nums:\n",
    "    if i<pivot:\n",
    "        less.append(i)\n",
    "    elif i==pivot:\n",
    "        equal.append(i)\n",
    "    else:\n",
    "        greater.append(i)\n",
    "nums = less + equal + greater\n",
    "print(nums)"
   ]
  }
 ],
 "metadata": {
  "kernelspec": {
   "display_name": "Python 3",
   "language": "python",
   "name": "python3"
  },
  "language_info": {
   "codemirror_mode": {
    "name": "ipython",
    "version": 3
   },
   "file_extension": ".py",
   "mimetype": "text/x-python",
   "name": "python",
   "nbconvert_exporter": "python",
   "pygments_lexer": "ipython3",
   "version": "3.10.10"
  }
 },
 "nbformat": 4,
 "nbformat_minor": 5
}
