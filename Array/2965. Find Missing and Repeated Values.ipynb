{
 "cells": [
  {
   "cell_type": "markdown",
   "id": "d8034ce2",
   "metadata": {},
   "source": [
    "**Problem Link**: [https://leetcode.com/problems/find-missing-and-repeated-values/description/](https://leetcode.com/problems/find-missing-and-repeated-values/description/)  \n",
    "**Solved On**: 2025-09-03  \n",
    "**Tags**: Array\n"
   ]
  },
  {
   "cell_type": "code",
   "execution_count": 39,
   "id": "613d7572",
   "metadata": {},
   "outputs": [],
   "source": [
    "grid = [[9,1,7],[8,9,2],[3,4,6]]"
   ]
  },
  {
   "cell_type": "code",
   "execution_count": 40,
   "id": "4121abd2",
   "metadata": {},
   "outputs": [
    {
     "name": "stdout",
     "output_type": "stream",
     "text": [
      "9\n",
      "[9, 5]\n"
     ]
    }
   ],
   "source": [
    "res = []\n",
    "counts = {} \n",
    "for i in grid:\n",
    "    for j in i:\n",
    "        counts[j] = counts.get(j,0) + 1\n",
    "        if counts[j] == 2:\n",
    "            res.append(j)\n",
    "\n",
    "n = sum(len(i) for i in grid )\n",
    "print(n)\n",
    "for i in range(1,n+1):\n",
    "    if i not in counts:\n",
    "        res.append(i)\n",
    "print(res)"
   ]
  }
 ],
 "metadata": {
  "kernelspec": {
   "display_name": "Python 3",
   "language": "python",
   "name": "python3"
  },
  "language_info": {
   "codemirror_mode": {
    "name": "ipython",
    "version": 3
   },
   "file_extension": ".py",
   "mimetype": "text/x-python",
   "name": "python",
   "nbconvert_exporter": "python",
   "pygments_lexer": "ipython3",
   "version": "3.10.10"
  }
 },
 "nbformat": 4,
 "nbformat_minor": 5
}
