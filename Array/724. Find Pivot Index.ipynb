{
 "cells": [
  {
   "cell_type": "markdown",
   "id": "1f114457",
   "metadata": {},
   "source": [
    "**Problem Link**: [https://leetcode.com/problems/find-pivot-index/description/](https://leetcode.com/problems/find-pivot-index/description/)  \n",
    "**Solved On**: 2025-09-02  \n",
    "**Tags**: Array\n"
   ]
  },
  {
   "cell_type": "code",
   "execution_count": 30,
   "id": "c791aa9b",
   "metadata": {},
   "outputs": [],
   "source": [
    "# nums = [1,7,3,6,5,6]\n",
    "# nums  = [-1,-1,-1,-1,-1,1]\n",
    "# nums = [-1,-1,0,1,1,0]\n",
    "nums = [2,1,-1]"
   ]
  },
  {
   "cell_type": "code",
   "execution_count": null,
   "id": "970d60c8",
   "metadata": {},
   "outputs": [
    {
     "name": "stdout",
     "output_type": "stream",
     "text": [
      "-1\n"
     ]
    }
   ],
   "source": [
    "for i in range(len(nums)-1):\n",
    "    if i==0 or i==len(nums):\n",
    "        if sum(nums[i+1:]) == 0 and i==0:\n",
    "            print(i) \n",
    "    elif sum(nums[:i]) == sum(nums[i+1:]):\n",
    "        print(i)\n",
    "print(-1)"
   ]
  },
  {
   "cell_type": "code",
   "execution_count": 31,
   "id": "16edab6c",
   "metadata": {},
   "outputs": [
    {
     "name": "stdout",
     "output_type": "stream",
     "text": [
      "0\n",
      "-1\n"
     ]
    }
   ],
   "source": [
    "for i in range(len(nums)):\n",
    "    if i==0:\n",
    "        if sum(nums[i+1:]) == 0:\n",
    "            print(i)    \n",
    "    elif i==len(nums)-1:\n",
    "        if sum(nums[:i]) == 0:\n",
    "            print(i)\n",
    "    elif sum(nums[:i]) == sum(nums[i+1:]):\n",
    "        print(i)\n",
    "print(-1)"
   ]
  },
  {
   "cell_type": "code",
   "execution_count": null,
   "id": "b1ac76e5",
   "metadata": {},
   "outputs": [
    {
     "name": "stdout",
     "output_type": "stream",
     "text": [
      "3\n"
     ]
    }
   ],
   "source": [
    "def find_index(nums):\n",
    "    total = sum(nums)   # O(n)\n",
    "    left_sum = 0\n",
    "    \n",
    "    for i, num in enumerate(nums):  # O(n)\n",
    "        right_sum = total - left_sum - num\n",
    "        if left_sum == right_sum:\n",
    "            return i\n",
    "        left_sum += num\n",
    "    \n",
    "    return -1\n",
    "\n",
    "\n",
    "nums = [1, 7, 3, 6, 5, 6]\n",
    "print(find_index(nums))  "
   ]
  }
 ],
 "metadata": {
  "kernelspec": {
   "display_name": "Python 3",
   "language": "python",
   "name": "python3"
  },
  "language_info": {
   "codemirror_mode": {
    "name": "ipython",
    "version": 3
   },
   "file_extension": ".py",
   "mimetype": "text/x-python",
   "name": "python",
   "nbconvert_exporter": "python",
   "pygments_lexer": "ipython3",
   "version": "3.10.10"
  }
 },
 "nbformat": 4,
 "nbformat_minor": 5
}
