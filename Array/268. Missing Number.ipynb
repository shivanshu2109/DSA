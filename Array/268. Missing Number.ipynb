{
 "cells": [
  {
   "cell_type": "markdown",
   "id": "4eac2983",
   "metadata": {},
   "source": [
    "**Problem Link**: [https://leetcode.com/problems/missing-number/description/](https://leetcode.com/problems/missing-number/description/)  \n",
    "**Solved On**: 2025-07-03  \n",
    "**Tags**: Array\n"
   ]
  },
  {
   "cell_type": "code",
   "execution_count": 5,
   "id": "840a1b25",
   "metadata": {},
   "outputs": [],
   "source": [
    "nums = [3,0,1]"
   ]
  },
  {
   "cell_type": "markdown",
   "id": "5be7c570",
   "metadata": {},
   "source": [
    "# Best method \n",
    "\n",
    "We use the **sum formula for the first _n_ natural numbers**:\n",
    "\n",
    "$$\n",
    "\\text{Expected Sum} = \\frac{n(n + 1)}{2}\n",
    "$$\n",
    "\n",
    "\n"
   ]
  },
  {
   "cell_type": "code",
   "execution_count": 7,
   "id": "5a0c9111",
   "metadata": {},
   "outputs": [
    {
     "name": "stdout",
     "output_type": "stream",
     "text": [
      "2\n"
     ]
    }
   ],
   "source": [
    "n = len(nums)\n",
    "expected_sum = n * (n + 1) // 2\n",
    "actual_sum = sum(nums)\n",
    "missing_number = expected_sum - actual_sum\n",
    "print(missing_number)"
   ]
  },
  {
   "cell_type": "markdown",
   "id": "ef047728",
   "metadata": {},
   "source": [
    "# Sorting takes O(n logn ) times "
   ]
  },
  {
   "cell_type": "code",
   "execution_count": 6,
   "id": "cea34b23",
   "metadata": {},
   "outputs": [
    {
     "name": "stdout",
     "output_type": "stream",
     "text": [
      "2\n"
     ]
    }
   ],
   "source": [
    "nums.sort()\n",
    "for i in range(len(nums)):\n",
    "    if i != nums[i]:\n",
    "        print(i)\n",
    "        break"
   ]
  }
 ],
 "metadata": {
  "kernelspec": {
   "display_name": "Python 3",
   "language": "python",
   "name": "python3"
  },
  "language_info": {
   "codemirror_mode": {
    "name": "ipython",
    "version": 3
   },
   "file_extension": ".py",
   "mimetype": "text/x-python",
   "name": "python",
   "nbconvert_exporter": "python",
   "pygments_lexer": "ipython3",
   "version": "3.10.10"
  }
 },
 "nbformat": 4,
 "nbformat_minor": 5
}
