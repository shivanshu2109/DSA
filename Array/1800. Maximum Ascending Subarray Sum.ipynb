{
 "cells": [
  {
   "cell_type": "markdown",
   "id": "ba63574e",
   "metadata": {},
   "source": [
    "**Problem Link**: [https://leetcode.com/problems/maximum-ascending-subarray-sum/description/](https://leetcode.com/problems/maximum-ascending-subarray-sum/description/)  \n",
    "**Solved On**: 2025-08-30  \n",
    "**Tags**: Array\n"
   ]
  },
  {
   "cell_type": "code",
   "execution_count": 15,
   "id": "d7ee87e1",
   "metadata": {},
   "outputs": [],
   "source": [
    "nums = [10,20,30,5,10,50]"
   ]
  },
  {
   "cell_type": "code",
   "execution_count": 35,
   "id": "c01207c4",
   "metadata": {},
   "outputs": [
    {
     "name": "stdout",
     "output_type": "stream",
     "text": [
      "65\n"
     ]
    }
   ],
   "source": [
    "current_max = nums[0]\n",
    "total_max = nums[0]\n",
    "for i in range(1, len(nums)):\n",
    "    if nums[i-1]<nums[i]:\n",
    "        current_max+=nums[i]\n",
    "    else:\n",
    "        current_max = nums[i]\n",
    "    total_max = max(total_max, current_max)\n",
    "print(total_max)"
   ]
  }
 ],
 "metadata": {
  "kernelspec": {
   "display_name": "Python 3",
   "language": "python",
   "name": "python3"
  },
  "language_info": {
   "codemirror_mode": {
    "name": "ipython",
    "version": 3
   },
   "file_extension": ".py",
   "mimetype": "text/x-python",
   "name": "python",
   "nbconvert_exporter": "python",
   "pygments_lexer": "ipython3",
   "version": "3.10.10"
  }
 },
 "nbformat": 4,
 "nbformat_minor": 5
}
