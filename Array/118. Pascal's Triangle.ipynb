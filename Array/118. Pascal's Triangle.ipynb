{
 "cells": [
  {
   "cell_type": "markdown",
   "id": "36f0c6a9",
   "metadata": {},
   "source": [
    "**Problem Link**: [https://leetcode.com/problems/pascals-triangle/description/](https://leetcode.com/problems/pascals-triangle/description/)  \n",
    "**Solved On**: 2025-08-17  \n",
    "**Tags**: Array\n"
   ]
  },
  {
   "cell_type": "code",
   "execution_count": 3,
   "id": "56646d7d",
   "metadata": {},
   "outputs": [],
   "source": [
    "numRows = 5"
   ]
  },
  {
   "cell_type": "code",
   "execution_count": 4,
   "id": "e4f0ff6e",
   "metadata": {},
   "outputs": [
    {
     "name": "stdout",
     "output_type": "stream",
     "text": [
      "[[1], [1, 1], [1, 2, 1], [1, 3, 3, 1], [1, 4, 6, 4, 1]]\n"
     ]
    }
   ],
   "source": [
    "res= [[1]]\n",
    "\n",
    "for i in range(numRows-1):\n",
    "    temp = [0]  + res[-1] + [0]\n",
    "    row = []\n",
    "    for j in range(len(res[-1])+1):\n",
    "        row.append(temp[j] + temp[j+1])\n",
    "    res.append(row)\n",
    "print(res)"
   ]
  }
 ],
 "metadata": {
  "kernelspec": {
   "display_name": "Python 3",
   "language": "python",
   "name": "python3"
  },
  "language_info": {
   "codemirror_mode": {
    "name": "ipython",
    "version": 3
   },
   "file_extension": ".py",
   "mimetype": "text/x-python",
   "name": "python",
   "nbconvert_exporter": "python",
   "pygments_lexer": "ipython3",
   "version": "3.10.10"
  }
 },
 "nbformat": 4,
 "nbformat_minor": 5
}
