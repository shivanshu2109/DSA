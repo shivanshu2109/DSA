{
 "cells": [
  {
   "cell_type": "markdown",
   "id": "26d4792b",
   "metadata": {},
   "source": [
    "**Problem Link**: [https://leetcode.com/problems/contains-duplicate/description/](https://leetcode.com/problems/contains-duplicate/description/)  \n",
    "**Solved On**: 2025-07-03  \n",
    "**Tags**: Array\n"
   ]
  },
  {
   "cell_type": "code",
   "execution_count": 2,
   "id": "e9af0b1f",
   "metadata": {},
   "outputs": [],
   "source": [
    "nums = [1,2,3,1]"
   ]
  },
  {
   "cell_type": "markdown",
   "id": "593c18b5",
   "metadata": {},
   "source": [
    "# 1st method "
   ]
  },
  {
   "cell_type": "code",
   "execution_count": 3,
   "id": "df6e393c",
   "metadata": {},
   "outputs": [
    {
     "name": "stdout",
     "output_type": "stream",
     "text": [
      "True\n"
     ]
    }
   ],
   "source": [
    "print(len(nums)>len(set(nums)))"
   ]
  },
  {
   "cell_type": "markdown",
   "id": "80046697",
   "metadata": {},
   "source": [
    "# 2nd method"
   ]
  },
  {
   "cell_type": "code",
   "execution_count": 4,
   "id": "4b6430b9",
   "metadata": {},
   "outputs": [
    {
     "name": "stdout",
     "output_type": "stream",
     "text": [
      "True\n",
      "False\n"
     ]
    }
   ],
   "source": [
    "seen = set()\n",
    "for i in nums:\n",
    "    if i in seen:\n",
    "        print(True)\n",
    "    seen.add(i)\n",
    "print(False)"
   ]
  }
 ],
 "metadata": {
  "kernelspec": {
   "display_name": "Python 3",
   "language": "python",
   "name": "python3"
  },
  "language_info": {
   "codemirror_mode": {
    "name": "ipython",
    "version": 3
   },
   "file_extension": ".py",
   "mimetype": "text/x-python",
   "name": "python",
   "nbconvert_exporter": "python",
   "pygments_lexer": "ipython3",
   "version": "3.10.10"
  }
 },
 "nbformat": 4,
 "nbformat_minor": 5
}
