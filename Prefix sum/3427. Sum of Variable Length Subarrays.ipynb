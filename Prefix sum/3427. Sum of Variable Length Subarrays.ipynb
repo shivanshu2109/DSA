{
 "cells": [
  {
   "cell_type": "markdown",
   "id": "2a96fec3",
   "metadata": {},
   "source": [
    "**Problem Link**: [https://leetcode.com/problems/sum-of-variable-length-subarrays/](https://leetcode.com/problems/sum-of-variable-length-subarrays/)  \n",
    "**Solved On**: 2025-06-19  \n",
    "**Tags**: Prefix sum\n"
   ]
  },
  {
   "cell_type": "code",
   "execution_count": 1,
   "id": "74a87087",
   "metadata": {},
   "outputs": [],
   "source": [
    "nums = [2,3,1]"
   ]
  },
  {
   "cell_type": "code",
   "execution_count": 2,
   "id": "63ed193b",
   "metadata": {},
   "outputs": [
    {
     "name": "stdout",
     "output_type": "stream",
     "text": [
      "11\n"
     ]
    }
   ],
   "source": [
    "res = []\n",
    "for i in range(len(nums)):\n",
    "    start = max(0, i - nums[i])\n",
    "    res.append(sum(nums[start:i+1]))\n",
    "result = sum(res)\n",
    "print(result)"
   ]
  }
 ],
 "metadata": {
  "kernelspec": {
   "display_name": "Python 3",
   "language": "python",
   "name": "python3"
  },
  "language_info": {
   "codemirror_mode": {
    "name": "ipython",
    "version": 3
   },
   "file_extension": ".py",
   "mimetype": "text/x-python",
   "name": "python",
   "nbconvert_exporter": "python",
   "pygments_lexer": "ipython3",
   "version": "3.10.10"
  }
 },
 "nbformat": 4,
 "nbformat_minor": 5
}
