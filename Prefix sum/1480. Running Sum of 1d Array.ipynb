{
 "cells": [
  {
   "cell_type": "markdown",
   "id": "0abb39df",
   "metadata": {},
   "source": [
    "**Problem Link**: [https://leetcode.com/problems/running-sum-of-1d-array/description/](https://leetcode.com/problems/running-sum-of-1d-array/description/)  \n",
    "**Solved On**: 2025-06-19  \n",
    "**Tags**: Prefix sum\n"
   ]
  },
  {
   "cell_type": "code",
   "execution_count": 1,
   "id": "57c92738",
   "metadata": {},
   "outputs": [],
   "source": [
    "nums = [1,2,3,4]"
   ]
  },
  {
   "cell_type": "code",
   "execution_count": 2,
   "id": "57f2750d",
   "metadata": {},
   "outputs": [
    {
     "data": {
      "text/plain": [
       "[1, 3, 6, 10]"
      ]
     },
     "execution_count": 2,
     "metadata": {},
     "output_type": "execute_result"
    }
   ],
   "source": [
    "res = []\n",
    "count = 0\n",
    "for i in nums:\n",
    "    count += i\n",
    "    res.append(count)\n",
    "res"
   ]
  }
 ],
 "metadata": {
  "kernelspec": {
   "display_name": "Python 3",
   "language": "python",
   "name": "python3"
  },
  "language_info": {
   "codemirror_mode": {
    "name": "ipython",
    "version": 3
   },
   "file_extension": ".py",
   "mimetype": "text/x-python",
   "name": "python",
   "nbconvert_exporter": "python",
   "pygments_lexer": "ipython3",
   "version": "3.10.10"
  }
 },
 "nbformat": 4,
 "nbformat_minor": 5
}
