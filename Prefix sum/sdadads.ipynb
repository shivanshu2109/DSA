{
 "cells": [
  {
   "cell_type": "markdown",
   "id": "bec51131",
   "metadata": {},
   "source": [
    "**Problem Link**: [https://leetcode.com/problems/sum-of-variable-length-subarrays/description/](https://leetcode.com/problems/sum-of-variable-length-subarrays/description/)  \n",
    "**Solved On**: 2025-06-19  \n",
    "**Tags**: Prefix sum\n"
   ]
  },
  {
   "cell_type": "code",
   "execution_count": 1,
   "id": "cdab2740",
   "metadata": {},
   "outputs": [],
   "source": [
    "nums = []"
   ]
  }
 ],
 "metadata": {
  "kernelspec": {
   "display_name": "Python 3",
   "language": "python",
   "name": "python3"
  },
  "language_info": {
   "codemirror_mode": {
    "name": "ipython",
    "version": 3
   },
   "file_extension": ".py",
   "mimetype": "text/x-python",
   "name": "python",
   "nbconvert_exporter": "python",
   "pygments_lexer": "ipython3",
   "version": "3.10.10"
  }
 },
 "nbformat": 4,
 "nbformat_minor": 5
}
