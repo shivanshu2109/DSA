{
 "cells": [
  {
   "cell_type": "markdown",
   "id": "76988de9",
   "metadata": {},
   "source": [
    "**Problem Link**: [https://leetcode.com/problems/left-and-right-sum-differences/](https://leetcode.com/problems/left-and-right-sum-differences/)  \n",
    "**Solved On**: 2025-06-19  \n",
    "**Tags**: Prefix sum\n"
   ]
  },
  {
   "cell_type": "code",
   "execution_count": 1,
   "id": "bc61094c",
   "metadata": {},
   "outputs": [],
   "source": [
    "nums = [10,4,8,3]"
   ]
  },
  {
   "cell_type": "code",
   "execution_count": 2,
   "id": "d81357be",
   "metadata": {},
   "outputs": [
    {
     "name": "stdout",
     "output_type": "stream",
     "text": [
      "[15, 1, 11, 22]\n"
     ]
    }
   ],
   "source": [
    "leftsum = []\n",
    "rightsum = []\n",
    "res = []\n",
    "for i in range(len(nums)):\n",
    "    leftsum.append(sum(nums[:i]))\n",
    "    rightsum.append(sum(nums[i+1:]))\n",
    "    res.append(abs(leftsum[i] - rightsum[i]))\n",
    "print(res)\n"
   ]
  }
 ],
 "metadata": {
  "kernelspec": {
   "display_name": "Python 3",
   "language": "python",
   "name": "python3"
  },
  "language_info": {
   "codemirror_mode": {
    "name": "ipython",
    "version": 3
   },
   "file_extension": ".py",
   "mimetype": "text/x-python",
   "name": "python",
   "nbconvert_exporter": "python",
   "pygments_lexer": "ipython3",
   "version": "3.10.10"
  }
 },
 "nbformat": 4,
 "nbformat_minor": 5
}
