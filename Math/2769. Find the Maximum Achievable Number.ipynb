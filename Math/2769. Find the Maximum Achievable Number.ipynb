{
 "cells": [
  {
   "cell_type": "markdown",
   "id": "d6470853",
   "metadata": {},
   "source": [
    "**Problem Link**: [https://leetcode.com/problems/find-the-maximum-achievable-number/description/?envType=problem-list-v2&envId=math](https://leetcode.com/problems/find-the-maximum-achievable-number/description/?envType=problem-list-v2&envId=math)  \n",
    "**Solved On**: 2025-06-20  \n",
    "**Tags**: Math\n"
   ]
  },
  {
   "cell_type": "markdown",
   "id": "4bf39a6c",
   "metadata": {},
   "source": [
    "**Problem Link**: [https://leetcode.com/problems/find-the-maximum-achievable-number/description/?envType=problem-list-v2&envId=math](https://leetcode.com/problems/find-the-maximum-achievable-number/description/?envType=problem-list-v2&envId=math)  \n",
    "**Solved On**: 2025-06-20  \n",
    "**Tags**: Math\n"
   ]
  },
  {
   "cell_type": "code",
   "execution_count": 5,
   "id": "ff307bec",
   "metadata": {},
   "outputs": [],
   "source": [
    "num = 4\n",
    "t = 1"
   ]
  },
  {
   "cell_type": "markdown",
   "id": "1b5a18ce",
   "metadata": {},
   "source": [
    "# Basically , absoulute difference will always remain same because we will always increase x and decrease nums in order to make nums and x equal\n",
    "## so for example: \n",
    "\n",
    "        x += 1 and num -= 1 → distance increases by 2\n",
    "\n",
    "        x -= 1 and num += 1 → distance increases by 2\n",
    "\n",
    "        x += 1 and num += 1 → distance stays the same\n",
    "\n",
    "        x -= 1 and num -= 1 → distance stays the same\n",
    "\n",
    "### so, the maximum distance they can start apart and still be made equal in t steps is 2 * t"
   ]
  },
  {
   "cell_type": "code",
   "execution_count": 6,
   "id": "057af165",
   "metadata": {},
   "outputs": [
    {
     "name": "stdout",
     "output_type": "stream",
     "text": [
      "6\n"
     ]
    }
   ],
   "source": [
    "print (num + 2*t)"
   ]
  }
 ],
 "metadata": {
  "kernelspec": {
   "display_name": "Python 3",
   "language": "python",
   "name": "python3"
  },
  "language_info": {
   "codemirror_mode": {
    "name": "ipython",
    "version": 3
   },
   "file_extension": ".py",
   "mimetype": "text/x-python",
   "name": "python",
   "nbconvert_exporter": "python",
   "pygments_lexer": "ipython3",
   "version": "3.10.10"
  }
 },
 "nbformat": 4,
 "nbformat_minor": 5
}
