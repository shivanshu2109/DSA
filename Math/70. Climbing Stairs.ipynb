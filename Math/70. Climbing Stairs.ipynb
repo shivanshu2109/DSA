{
 "cells": [
  {
   "cell_type": "markdown",
   "id": "ac43a77e",
   "metadata": {},
   "source": [
    "**Problem Link**: [https://leetcode.com/problems/climbing-stairs/description/](https://leetcode.com/problems/climbing-stairs/description/)  \n",
    "**Solved On**: 2025-07-05  \n",
    "**Tags**: Math\n"
   ]
  },
  {
   "cell_type": "code",
   "execution_count": 15,
   "id": "60050747",
   "metadata": {},
   "outputs": [],
   "source": [
    "n = 5"
   ]
  },
  {
   "cell_type": "code",
   "execution_count": 16,
   "id": "5ccd8665",
   "metadata": {},
   "outputs": [
    {
     "name": "stdout",
     "output_type": "stream",
     "text": [
      "8\n"
     ]
    }
   ],
   "source": [
    "a = 1\n",
    "b = 2\n",
    "if n <=2:\n",
    "    print(n)\n",
    "else:\n",
    "    for i in range(3,n+1):\n",
    "        a ,b = b, a + b\n",
    "print(b)"
   ]
  }
 ],
 "metadata": {
  "kernelspec": {
   "display_name": "Python 3",
   "language": "python",
   "name": "python3"
  },
  "language_info": {
   "codemirror_mode": {
    "name": "ipython",
    "version": 3
   },
   "file_extension": ".py",
   "mimetype": "text/x-python",
   "name": "python",
   "nbconvert_exporter": "python",
   "pygments_lexer": "ipython3",
   "version": "3.10.10"
  }
 },
 "nbformat": 4,
 "nbformat_minor": 5
}
