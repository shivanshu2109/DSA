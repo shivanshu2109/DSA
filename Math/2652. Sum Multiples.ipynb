{
 "cells": [
  {
   "cell_type": "markdown",
   "id": "9c3eb6ed",
   "metadata": {},
   "source": [
    "**Problem Link**: [https://leetcode.com/problems/sum-multiples/description/](https://leetcode.com/problems/sum-multiples/description/)  \n",
    "**Solved On**: 2025-07-28  \n",
    "**Tags**: Math\n"
   ]
  },
  {
   "cell_type": "code",
   "execution_count": 6,
   "id": "2b8a84fd",
   "metadata": {},
   "outputs": [],
   "source": [
    "n = 9"
   ]
  },
  {
   "cell_type": "code",
   "execution_count": 7,
   "id": "67509f1e",
   "metadata": {},
   "outputs": [
    {
     "name": "stdout",
     "output_type": "stream",
     "text": [
      "30\n"
     ]
    }
   ],
   "source": [
    "i = 0\n",
    "sum = 0\n",
    "while i <= n:\n",
    "    if i%3==0 or i%5==0 or i%7==0:\n",
    "        sum += i\n",
    "    i += 1\n",
    "print(sum)"
   ]
  }
 ],
 "metadata": {
  "kernelspec": {
   "display_name": "Python 3",
   "language": "python",
   "name": "python3"
  },
  "language_info": {
   "codemirror_mode": {
    "name": "ipython",
    "version": 3
   },
   "file_extension": ".py",
   "mimetype": "text/x-python",
   "name": "python",
   "nbconvert_exporter": "python",
   "pygments_lexer": "ipython3",
   "version": "3.10.10"
  }
 },
 "nbformat": 4,
 "nbformat_minor": 5
}
