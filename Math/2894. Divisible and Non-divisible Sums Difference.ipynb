{
 "cells": [
  {
   "cell_type": "markdown",
   "id": "d4d801ea",
   "metadata": {},
   "source": [
    "**Problem Link**: [https://leetcode.com/problems/divisible-and-non-divisible-sums-difference/description/](https://leetcode.com/problems/divisible-and-non-divisible-sums-difference/description/)  \n",
    "**Solved On**: 2025-07-06  \n",
    "**Tags**: Math\n"
   ]
  },
  {
   "cell_type": "code",
   "execution_count": 2,
   "id": "660d4fa3",
   "metadata": {},
   "outputs": [],
   "source": [
    "n = 5\n",
    "m = 6"
   ]
  },
  {
   "cell_type": "markdown",
   "id": "62a86e2a",
   "metadata": {},
   "source": [
    "# Brute force approach --> O(n)"
   ]
  },
  {
   "cell_type": "code",
   "execution_count": 3,
   "id": "cf3ba174",
   "metadata": {},
   "outputs": [
    {
     "name": "stdout",
     "output_type": "stream",
     "text": [
      "15\n"
     ]
    }
   ],
   "source": [
    "nums1 = []\n",
    "nums2 = []\n",
    "i = 1\n",
    "while i<=n:\n",
    "    if i%m==0:\n",
    "        nums2.append(i)\n",
    "    else:\n",
    "        nums1.append(i)\n",
    "    i += 1\n",
    "print(sum(nums1) - sum(nums2))"
   ]
  },
  {
   "cell_type": "markdown",
   "id": "9e948c1b",
   "metadata": {},
   "source": [
    "# Optimal Method --> O(1)"
   ]
  },
  {
   "cell_type": "code",
   "execution_count": 4,
   "id": "ade43a72",
   "metadata": {},
   "outputs": [
    {
     "name": "stdout",
     "output_type": "stream",
     "text": [
      "15\n"
     ]
    }
   ],
   "source": [
    "total = n * (n + 1) // 2\n",
    "k = n // m\n",
    "divisible = m * k * (k + 1) // 2\n",
    "print(total - 2 * divisible)"
   ]
  }
 ],
 "metadata": {
  "kernelspec": {
   "display_name": "Python 3",
   "language": "python",
   "name": "python3"
  },
  "language_info": {
   "codemirror_mode": {
    "name": "ipython",
    "version": 3
   },
   "file_extension": ".py",
   "mimetype": "text/x-python",
   "name": "python",
   "nbconvert_exporter": "python",
   "pygments_lexer": "ipython3",
   "version": "3.10.10"
  }
 },
 "nbformat": 4,
 "nbformat_minor": 5
}
