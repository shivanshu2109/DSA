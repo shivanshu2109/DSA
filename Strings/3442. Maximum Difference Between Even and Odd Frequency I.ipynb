{
 "cells": [
  {
   "cell_type": "markdown",
   "id": "e0fae340",
   "metadata": {},
   "source": [
    "**Problem Link**: [https://leetcode.com/problems/maximum-difference-between-even-and-odd-frequency-i/description/](https://leetcode.com/problems/maximum-difference-between-even-and-odd-frequency-i/description/)  \n",
    "**Solved On**: 2025-08-29  \n",
    "**Tags**: Strings\n"
   ]
  },
  {
   "cell_type": "code",
   "execution_count": 11,
   "id": "bd36986c",
   "metadata": {},
   "outputs": [],
   "source": [
    "s = \"mmsmsym\""
   ]
  },
  {
   "cell_type": "code",
   "execution_count": 13,
   "id": "d048698e",
   "metadata": {},
   "outputs": [
    {
     "name": "stdout",
     "output_type": "stream",
     "text": [
      "{'m': 4, 's': 2, 'y': 1}\n",
      "1 2\n",
      "-1\n"
     ]
    }
   ],
   "source": [
    "dict1 = {}\n",
    "for i in s:\n",
    "    dict1[i] = dict1.get(i, 0) + 1\n",
    "print(dict1)\n",
    "\n",
    "max_odd = None\n",
    "max_even = None\n",
    "\n",
    "for count in dict1.values():\n",
    "    if count%2==1:\n",
    "        if max_odd is None or count>max_odd:\n",
    "            max_odd = count\n",
    "    else:\n",
    "        if max_even is None:\n",
    "            max_even = count\n",
    "        elif max_even>count:\n",
    "            max_even = count\n",
    "print(max_odd, max_even)\n",
    "print(max_odd - max_even)"
   ]
  }
 ],
 "metadata": {
  "kernelspec": {
   "display_name": "Python 3",
   "language": "python",
   "name": "python3"
  },
  "language_info": {
   "codemirror_mode": {
    "name": "ipython",
    "version": 3
   },
   "file_extension": ".py",
   "mimetype": "text/x-python",
   "name": "python",
   "nbconvert_exporter": "python",
   "pygments_lexer": "ipython3",
   "version": "3.10.10"
  }
 },
 "nbformat": 4,
 "nbformat_minor": 5
}
