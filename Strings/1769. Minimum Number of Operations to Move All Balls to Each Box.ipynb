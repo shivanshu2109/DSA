{
 "cells": [
  {
   "cell_type": "markdown",
   "id": "c5816335",
   "metadata": {},
   "source": [
    "**Problem Link**: [https://leetcode.com/problems/minimum-number-of-operations-to-move-all-balls-to-each-box/description/](https://leetcode.com/problems/minimum-number-of-operations-to-move-all-balls-to-each-box/description/)  \n",
    "**Solved On**: 2025-07-02  \n",
    "**Tags**: Strings\n"
   ]
  },
  {
   "cell_type": "code",
   "execution_count": 6,
   "id": "97b90f32",
   "metadata": {},
   "outputs": [],
   "source": [
    "boxes = \"001011\"\n",
    "res = []"
   ]
  },
  {
   "cell_type": "code",
   "execution_count": 8,
   "id": "c146e434",
   "metadata": {},
   "outputs": [
    {
     "name": "stdout",
     "output_type": "stream",
     "text": [
      "[11, 8, 5, 4, 3, 4]\n"
     ]
    }
   ],
   "source": [
    "for i in range (len(boxes)):\n",
    "    # if i want to move a ball from i to j thenm we need abs(i-j)\n",
    "    count = 0\n",
    "    for j in range(len(boxes)):\n",
    "        if boxes[j] == '1':\n",
    "            count += abs(j - i)\n",
    "    res.append(count)\n",
    "\n",
    "print(res)"
   ]
  }
 ],
 "metadata": {
  "kernelspec": {
   "display_name": "Python 3",
   "language": "python",
   "name": "python3"
  },
  "language_info": {
   "codemirror_mode": {
    "name": "ipython",
    "version": 3
   },
   "file_extension": ".py",
   "mimetype": "text/x-python",
   "name": "python",
   "nbconvert_exporter": "python",
   "pygments_lexer": "ipython3",
   "version": "3.10.10"
  }
 },
 "nbformat": 4,
 "nbformat_minor": 5
}
