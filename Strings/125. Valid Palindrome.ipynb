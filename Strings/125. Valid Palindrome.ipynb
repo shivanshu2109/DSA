{
 "cells": [
  {
   "cell_type": "markdown",
   "id": "c3118243",
   "metadata": {},
   "source": [
    "**Problem Link**: [https://leetcode.com/problems/valid-palindrome/description/](https://leetcode.com/problems/valid-palindrome/description/)  \n",
    "**Solved On**: 2025-08-31  \n",
    "**Tags**: Strings\n"
   ]
  },
  {
   "cell_type": "code",
   "execution_count": 12,
   "id": "6fee6633",
   "metadata": {},
   "outputs": [],
   "source": [
    "s = \"A man, a plan, a canal: Panama\""
   ]
  },
  {
   "cell_type": "code",
   "execution_count": 13,
   "id": "a8cda591",
   "metadata": {},
   "outputs": [
    {
     "name": "stdout",
     "output_type": "stream",
     "text": [
      "True\n"
     ]
    }
   ],
   "source": [
    "s = ''.join(i.lower() for i in s if i.isalnum())\n",
    "print(s == s[::-1])"
   ]
  },
  {
   "cell_type": "code",
   "execution_count": 14,
   "id": "fe8ccde6",
   "metadata": {},
   "outputs": [
    {
     "name": "stdout",
     "output_type": "stream",
     "text": [
      "True\n"
     ]
    }
   ],
   "source": [
    "for i in s:\n",
    "    if not i.isalnum():\n",
    "        s = s.replace(i, \"\")\n",
    "s = s.lower()\n",
    "print(s == s[::-1])"
   ]
  }
 ],
 "metadata": {
  "kernelspec": {
   "display_name": "Python 3",
   "language": "python",
   "name": "python3"
  },
  "language_info": {
   "codemirror_mode": {
    "name": "ipython",
    "version": 3
   },
   "file_extension": ".py",
   "mimetype": "text/x-python",
   "name": "python",
   "nbconvert_exporter": "python",
   "pygments_lexer": "ipython3",
   "version": "3.10.10"
  }
 },
 "nbformat": 4,
 "nbformat_minor": 5
}
