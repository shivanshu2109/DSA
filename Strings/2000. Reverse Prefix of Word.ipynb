{
 "cells": [
  {
   "cell_type": "markdown",
   "id": "0de36942",
   "metadata": {},
   "source": [
    "**Problem Link**: [https://leetcode.com/problems/reverse-prefix-of-word/description/](https://leetcode.com/problems/reverse-prefix-of-word/description/)  \n",
    "**Solved On**: 2025-07-01  \n",
    "**Tags**: Strings\n"
   ]
  },
  {
   "cell_type": "code",
   "execution_count": null,
   "id": "caa0a404",
   "metadata": {},
   "outputs": [],
   "source": [
    "word = \"xyxzxe\"\n",
    "ch = \"z\""
   ]
  },
  {
   "cell_type": "markdown",
   "id": "e92b8168",
   "metadata": {},
   "source": [
    "# This is my logic"
   ]
  },
  {
   "cell_type": "code",
   "execution_count": null,
   "id": "68e4b2fc",
   "metadata": {},
   "outputs": [],
   "source": [
    "result = \"\"\n",
    "if ch in word:\n",
    "    i = 0\n",
    "    while word[i] != ch:\n",
    "        result += word[i]\n",
    "        i += 1\n",
    "    result += ch\n",
    "    result = result[::-1] + word[i+1:]\n",
    "else:\n",
    "    result = word\n",
    "print(result)"
   ]
  },
  {
   "cell_type": "markdown",
   "id": "945b19a7",
   "metadata": {},
   "source": [
    "# Efficient way to deal with such problems"
   ]
  },
  {
   "cell_type": "code",
   "execution_count": null,
   "id": "327becdd",
   "metadata": {},
   "outputs": [
    {
     "name": "stdout",
     "output_type": "stream",
     "text": [
      "zxyxxe\n"
     ]
    }
   ],
   "source": [
    "index = word.find(ch)\n",
    "if index != -1:\n",
    "    result = word[:index+1][::-1] + word[index+1:]\n",
    "else:\n",
    "    result = word  \n",
    "print(result)"
   ]
  }
 ],
 "metadata": {
  "kernelspec": {
   "display_name": "Python 3",
   "language": "python",
   "name": "python3"
  },
  "language_info": {
   "codemirror_mode": {
    "name": "ipython",
    "version": 3
   },
   "file_extension": ".py",
   "mimetype": "text/x-python",
   "name": "python",
   "nbconvert_exporter": "python",
   "pygments_lexer": "ipython3",
   "version": "3.10.10"
  }
 },
 "nbformat": 4,
 "nbformat_minor": 5
}
