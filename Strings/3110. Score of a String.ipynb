{
 "cells": [
  {
   "cell_type": "markdown",
   "id": "c6b2282b",
   "metadata": {},
   "source": [
    "**Problem Link**: [https://leetcode.com/problems/score-of-a-string/description/](https://leetcode.com/problems/score-of-a-string/description/)  \n",
    "**Solved On**: 2025-07-08  \n",
    "**Tags**: Strings\n"
   ]
  },
  {
   "cell_type": "code",
   "execution_count": 5,
   "id": "bf4f71b7",
   "metadata": {},
   "outputs": [],
   "source": [
    "s = \"zaz\""
   ]
  },
  {
   "cell_type": "code",
   "execution_count": 6,
   "id": "b56799b9",
   "metadata": {},
   "outputs": [
    {
     "name": "stdout",
     "output_type": "stream",
     "text": [
      "50\n"
     ]
    }
   ],
   "source": [
    "count = 0\n",
    "for i in range(len(s)-1):\n",
    "    count+= abs(ord(s[i]) - ord(s[i+1]))\n",
    "print(count)\n"
   ]
  }
 ],
 "metadata": {
  "kernelspec": {
   "display_name": "Python 3",
   "language": "python",
   "name": "python3"
  },
  "language_info": {
   "codemirror_mode": {
    "name": "ipython",
    "version": 3
   },
   "file_extension": ".py",
   "mimetype": "text/x-python",
   "name": "python",
   "nbconvert_exporter": "python",
   "pygments_lexer": "ipython3",
   "version": "3.10.10"
  }
 },
 "nbformat": 4,
 "nbformat_minor": 5
}
