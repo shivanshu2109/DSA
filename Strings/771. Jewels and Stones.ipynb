{
 "cells": [
  {
   "cell_type": "markdown",
   "id": "0950c27d",
   "metadata": {},
   "source": [
    "**Problem Link**: [https://leetcode.com/problems/score-of-a-string/description/](https://leetcode.com/problems/score-of-a-string/description/)  \n",
    "**Solved On**: 2025-06-22  \n",
    "**Tags**: Strings\n"
   ]
  },
  {
   "cell_type": "code",
   "execution_count": 5,
   "id": "d8d3e216",
   "metadata": {},
   "outputs": [],
   "source": [
    "jewels = \"aA\"\n",
    "stones = \"aAAbbbb\""
   ]
  },
  {
   "cell_type": "code",
   "execution_count": 6,
   "id": "0961a18d",
   "metadata": {},
   "outputs": [
    {
     "name": "stdout",
     "output_type": "stream",
     "text": [
      "3\n"
     ]
    }
   ],
   "source": [
    "count = 0\n",
    "for i in stones:\n",
    "    if i in jewels:\n",
    "        count += 1\n",
    "print(count)\n"
   ]
  }
 ],
 "metadata": {
  "kernelspec": {
   "display_name": "Python 3",
   "language": "python",
   "name": "python3"
  },
  "language_info": {
   "codemirror_mode": {
    "name": "ipython",
    "version": 3
   },
   "file_extension": ".py",
   "mimetype": "text/x-python",
   "name": "python",
   "nbconvert_exporter": "python",
   "pygments_lexer": "ipython3",
   "version": "3.10.10"
  }
 },
 "nbformat": 4,
 "nbformat_minor": 5
}
