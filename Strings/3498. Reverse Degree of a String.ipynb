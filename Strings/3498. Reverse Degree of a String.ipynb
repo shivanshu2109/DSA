{
 "cells": [
  {
   "cell_type": "markdown",
   "id": "a63b060f",
   "metadata": {},
   "source": [
    "**Problem Link**: [https://leetcode.com/problems/reverse-degree-of-a-string/description/](https://leetcode.com/problems/reverse-degree-of-a-string/description/)  \n",
    "**Solved On**: 2025-07-11  \n",
    "**Tags**: Strings\n"
   ]
  },
  {
   "cell_type": "code",
   "execution_count": 1,
   "id": "5cb0ca09",
   "metadata": {},
   "outputs": [],
   "source": [
    "s = \"abc\""
   ]
  },
  {
   "cell_type": "code",
   "execution_count": 6,
   "id": "9034e308",
   "metadata": {},
   "outputs": [
    {
     "name": "stdout",
     "output_type": "stream",
     "text": [
      "148\n"
     ]
    }
   ],
   "source": [
    "reverse_degree = 0\n",
    "for idx, char in enumerate(s, 1):\n",
    "    rev_pos = 26 - (ord(char) - ord('a'))\n",
    "    reverse_degree += idx * rev_pos\n",
    "print(reverse_degree)\n"
   ]
  }
 ],
 "metadata": {
  "kernelspec": {
   "display_name": "Python 3",
   "language": "python",
   "name": "python3"
  },
  "language_info": {
   "codemirror_mode": {
    "name": "ipython",
    "version": 3
   },
   "file_extension": ".py",
   "mimetype": "text/x-python",
   "name": "python",
   "nbconvert_exporter": "python",
   "pygments_lexer": "ipython3",
   "version": "3.10.10"
  }
 },
 "nbformat": 4,
 "nbformat_minor": 5
}
