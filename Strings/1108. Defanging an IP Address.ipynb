{
 "cells": [
  {
   "cell_type": "markdown",
   "id": "3d88c5ba",
   "metadata": {},
   "source": [
    "**Problem Link**: [https://leetcode.com/problems/defanging-an-ip-address/description/](https://leetcode.com/problems/defanging-an-ip-address/description/)  \n",
    "**Solved On**: 2025-06-21  \n",
    "**Tags**: Strings\n"
   ]
  },
  {
   "cell_type": "code",
   "execution_count": 1,
   "id": "796ff1ed",
   "metadata": {},
   "outputs": [],
   "source": [
    "address = \"1.1.1.1\"\n",
    "new_str = ''"
   ]
  },
  {
   "cell_type": "markdown",
   "id": "ddc31fca",
   "metadata": {},
   "source": [
    "# 1st Method"
   ]
  },
  {
   "cell_type": "code",
   "execution_count": null,
   "id": "2445acd7",
   "metadata": {},
   "outputs": [
    {
     "name": "stdout",
     "output_type": "stream",
     "text": [
      "1[.]1[.]1[.]1\n"
     ]
    }
   ],
   "source": [
    "# new_str = address.replace(\".\", \"[.]\")\n",
    "# print(new_str)"
   ]
  },
  {
   "cell_type": "markdown",
   "id": "09222a59",
   "metadata": {},
   "source": [
    "# 2nd Method"
   ]
  },
  {
   "cell_type": "code",
   "execution_count": 2,
   "id": "a65a611b",
   "metadata": {},
   "outputs": [
    {
     "name": "stdout",
     "output_type": "stream",
     "text": [
      "1[.]1[.]1[.]1\n"
     ]
    }
   ],
   "source": [
    "for i in address:\n",
    "    if i == \".\":\n",
    "        new_str += \"[.]\"\n",
    "    else:\n",
    "        new_str += i    \n",
    "\n",
    "print(new_str)"
   ]
  }
 ],
 "metadata": {
  "kernelspec": {
   "display_name": "Python 3",
   "language": "python",
   "name": "python3"
  },
  "language_info": {
   "codemirror_mode": {
    "name": "ipython",
    "version": 3
   },
   "file_extension": ".py",
   "mimetype": "text/x-python",
   "name": "python",
   "nbconvert_exporter": "python",
   "pygments_lexer": "ipython3",
   "version": "3.10.10"
  }
 },
 "nbformat": 4,
 "nbformat_minor": 5
}
