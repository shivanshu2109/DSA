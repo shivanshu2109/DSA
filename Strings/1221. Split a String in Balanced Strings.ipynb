{
 "cells": [
  {
   "cell_type": "markdown",
   "id": "75f49208",
   "metadata": {},
   "source": [
    "**Problem Link**: [class Solution:](class Solution:)  \n",
    "**Solved On**: 2025-07-13  \n",
    "**Tags**: Strings\n"
   ]
  },
  {
   "cell_type": "code",
   "execution_count": 6,
   "id": "12273392",
   "metadata": {},
   "outputs": [],
   "source": [
    "s = \"LLLLRRRR\""
   ]
  },
  {
   "cell_type": "code",
   "execution_count": 7,
   "id": "03cac729",
   "metadata": {},
   "outputs": [
    {
     "name": "stdout",
     "output_type": "stream",
     "text": [
      "1\n"
     ]
    }
   ],
   "source": [
    "count_R = 0\n",
    "count_L = 0\n",
    "total_pairs = 0\n",
    "for char in s:\n",
    "    if char == 'R':\n",
    "        count_R += 1\n",
    "    elif char == 'L':\n",
    "        count_L += 1\n",
    "    if count_R == count_L:\n",
    "        total_pairs += 1\n",
    "        count_R = 0\n",
    "        count_L = 0\n",
    "print(total_pairs)"
   ]
  }
 ],
 "metadata": {
  "kernelspec": {
   "display_name": "Python 3",
   "language": "python",
   "name": "python3"
  },
  "language_info": {
   "codemirror_mode": {
    "name": "ipython",
    "version": 3
   },
   "file_extension": ".py",
   "mimetype": "text/x-python",
   "name": "python",
   "nbconvert_exporter": "python",
   "pygments_lexer": "ipython3",
   "version": "3.10.10"
  }
 },
 "nbformat": 4,
 "nbformat_minor": 5
}
