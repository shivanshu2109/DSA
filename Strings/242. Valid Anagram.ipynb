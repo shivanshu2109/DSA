{
 "cells": [
  {
   "cell_type": "markdown",
   "id": "4df3a3fa",
   "metadata": {},
   "source": [
    "**Problem Link**: [https://leetcode.com/problems/valid-anagram/description/](https://leetcode.com/problems/valid-anagram/description/)  \n",
    "**Solved On**: 2025-07-27  \n",
    "**Tags**: Strings\n"
   ]
  },
  {
   "cell_type": "code",
   "execution_count": 3,
   "id": "8d36347f",
   "metadata": {},
   "outputs": [],
   "source": [
    "s = \"a\"\n",
    "t = \"ab\""
   ]
  },
  {
   "cell_type": "code",
   "execution_count": 6,
   "id": "e745c296",
   "metadata": {},
   "outputs": [
    {
     "name": "stdout",
     "output_type": "stream",
     "text": [
      "False\n"
     ]
    }
   ],
   "source": [
    "if len(s) != len(t):\n",
    "    print(False)\n",
    "else:\n",
    "    count = {}\n",
    "    for char in s:\n",
    "        count[char] = count.get(char, 0) + 1\n",
    "    for char in t:\n",
    "        if char not in count or count[char] == 0:\n",
    "            print(False)\n",
    "            break\n",
    "        count[char] -= 1\n",
    "    else:\n",
    "        print(True)"
   ]
  }
 ],
 "metadata": {
  "kernelspec": {
   "display_name": "Python 3",
   "language": "python",
   "name": "python3"
  },
  "language_info": {
   "codemirror_mode": {
    "name": "ipython",
    "version": 3
   },
   "file_extension": ".py",
   "mimetype": "text/x-python",
   "name": "python",
   "nbconvert_exporter": "python",
   "pygments_lexer": "ipython3",
   "version": "3.10.10"
  }
 },
 "nbformat": 4,
 "nbformat_minor": 5
}
