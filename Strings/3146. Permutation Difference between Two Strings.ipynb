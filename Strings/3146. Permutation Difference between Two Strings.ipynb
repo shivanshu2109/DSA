{
 "cells": [
  {
   "cell_type": "markdown",
   "id": "6782c79d",
   "metadata": {},
   "source": [
    "**Problem Link**: [https://leetcode.com/problems/permutation-difference-between-two-strings/description/](https://leetcode.com/problems/permutation-difference-between-two-strings/description/)  \n",
    "**Solved On**: 2025-07-12  \n",
    "**Tags**: Strings\n"
   ]
  },
  {
   "cell_type": "code",
   "execution_count": 3,
   "id": "cda6e3a6",
   "metadata": {},
   "outputs": [],
   "source": [
    "s = \"abcde\"\n",
    "t = \"edbac\""
   ]
  },
  {
   "cell_type": "markdown",
   "id": "67411f63",
   "metadata": {},
   "source": [
    "# Brute force"
   ]
  },
  {
   "cell_type": "code",
   "execution_count": 5,
   "id": "ec076e98",
   "metadata": {},
   "outputs": [
    {
     "name": "stdout",
     "output_type": "stream",
     "text": [
      "12\n"
     ]
    }
   ],
   "source": [
    "count = 0\n",
    "for i in s:\n",
    "    for j in t:\n",
    "        if i==j:\n",
    "            count+= abs(s.index(i)-t.index(j))\n",
    "print(count)\n"
   ]
  },
  {
   "cell_type": "markdown",
   "id": "ddd9fddf",
   "metadata": {},
   "source": [
    "# Efficient method"
   ]
  },
  {
   "cell_type": "code",
   "execution_count": 6,
   "id": "f02a54e7",
   "metadata": {},
   "outputs": [
    {
     "name": "stdout",
     "output_type": "stream",
     "text": [
      "12\n"
     ]
    }
   ],
   "source": [
    "count = 0\n",
    "seen = set()\n",
    "\n",
    "for ch in set(s) & set(t):  # Only check common characters\n",
    "    count += abs(s.index(ch) - t.index(ch))\n",
    "\n",
    "print(count)"
   ]
  }
 ],
 "metadata": {
  "kernelspec": {
   "display_name": "Python 3",
   "language": "python",
   "name": "python3"
  },
  "language_info": {
   "codemirror_mode": {
    "name": "ipython",
    "version": 3
   },
   "file_extension": ".py",
   "mimetype": "text/x-python",
   "name": "python",
   "nbconvert_exporter": "python",
   "pygments_lexer": "ipython3",
   "version": "3.10.10"
  }
 },
 "nbformat": 4,
 "nbformat_minor": 5
}
