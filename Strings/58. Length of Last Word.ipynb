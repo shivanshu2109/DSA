{
 "cells": [
  {
   "cell_type": "markdown",
   "id": "c4862382",
   "metadata": {},
   "source": [
    "**Problem Link**: [https://leetcode.com/problems/length-of-last-word/description/](https://leetcode.com/problems/length-of-last-word/description/)  \n",
    "**Solved On**: 2025-08-11  \n",
    "**Tags**: Strings\n"
   ]
  },
  {
   "cell_type": "code",
   "execution_count": 1,
   "id": "a8683910",
   "metadata": {},
   "outputs": [],
   "source": [
    "s = \"   fly me   to   the moon  \""
   ]
  },
  {
   "cell_type": "code",
   "execution_count": 6,
   "id": "6a913b0c",
   "metadata": {},
   "outputs": [
    {
     "name": "stdout",
     "output_type": "stream",
     "text": [
      "4\n"
     ]
    }
   ],
   "source": [
    "\n",
    "a = (s.strip().split())\n",
    "print(len(a[-1]))"
   ]
  }
 ],
 "metadata": {
  "kernelspec": {
   "display_name": "Python 3",
   "language": "python",
   "name": "python3"
  },
  "language_info": {
   "codemirror_mode": {
    "name": "ipython",
    "version": 3
   },
   "file_extension": ".py",
   "mimetype": "text/x-python",
   "name": "python",
   "nbconvert_exporter": "python",
   "pygments_lexer": "ipython3",
   "version": "3.10.10"
  }
 },
 "nbformat": 4,
 "nbformat_minor": 5
}
