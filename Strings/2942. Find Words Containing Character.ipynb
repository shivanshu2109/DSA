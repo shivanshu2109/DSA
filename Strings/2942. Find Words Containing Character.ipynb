{
 "cells": [
  {
   "cell_type": "markdown",
   "id": "dad97d52",
   "metadata": {},
   "source": [
    "**Problem Link**: [https://leetcode.com/problems/find-words-containing-character/description/](https://leetcode.com/problems/find-words-containing-character/description/)  \n",
    "**Solved On**: 2025-07-09  \n",
    "**Tags**: Strings\n"
   ]
  },
  {
   "cell_type": "code",
   "execution_count": 4,
   "id": "441f8377",
   "metadata": {},
   "outputs": [],
   "source": [
    "words = [\"abc\",\"bcd\",\"aaaa\",\"cbc\"]\n",
    "x = \"a\""
   ]
  },
  {
   "cell_type": "code",
   "execution_count": 5,
   "id": "303c616c",
   "metadata": {},
   "outputs": [
    {
     "name": "stdout",
     "output_type": "stream",
     "text": [
      "[0, 2]\n"
     ]
    }
   ],
   "source": [
    "res = []\n",
    "for i in range(len(words)):\n",
    "    if x in words[i]:\n",
    "        res.append(i)\n",
    "print(res)"
   ]
  }
 ],
 "metadata": {
  "kernelspec": {
   "display_name": "Python 3",
   "language": "python",
   "name": "python3"
  },
  "language_info": {
   "codemirror_mode": {
    "name": "ipython",
    "version": 3
   },
   "file_extension": ".py",
   "mimetype": "text/x-python",
   "name": "python",
   "nbconvert_exporter": "python",
   "pygments_lexer": "ipython3",
   "version": "3.10.10"
  }
 },
 "nbformat": 4,
 "nbformat_minor": 5
}
