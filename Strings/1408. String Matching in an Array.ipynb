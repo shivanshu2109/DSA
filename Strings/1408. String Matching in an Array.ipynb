{
 "cells": [
  {
   "cell_type": "markdown",
   "id": "c8f5dfd0",
   "metadata": {},
   "source": [
    "**Problem Link**: [https://leetcode.com/problems/string-matching-in-an-array/description/](https://leetcode.com/problems/string-matching-in-an-array/description/)  \n",
    "**Solved On**: 2025-08-16  \n",
    "**Tags**: Strings\n"
   ]
  },
  {
   "cell_type": "code",
   "execution_count": 23,
   "id": "7d4c7a8b",
   "metadata": {},
   "outputs": [],
   "source": [
    "words = [\"leetcoder\",\"leetcode\",\"od\",\"hamlet\",\"am\"]"
   ]
  },
  {
   "cell_type": "code",
   "execution_count": 26,
   "id": "1a1048df",
   "metadata": {},
   "outputs": [
    {
     "name": "stdout",
     "output_type": "stream",
     "text": [
      "['leetcode', 'od', 'am']\n"
     ]
    }
   ],
   "source": [
    "res = []\n",
    "for i in range(len(words)):\n",
    "    for j in range(i+1,len(words)):\n",
    "        if words[i] in words[j] :\n",
    "            if words[i] not in res:\n",
    "                res.append(words[i])\n",
    "        elif words[j] in words[i]:\n",
    "            if words[j] not in res:\n",
    "                res.append(words[j])\n",
    "print(res)  "
   ]
  },
  {
   "cell_type": "code",
   "execution_count": null,
   "id": "bfdc6f67",
   "metadata": {},
   "outputs": [],
   "source": [
    "class Solution:\n",
    "    def stringMatching(self, words: List[str]) -> List[str]:\n",
    "        res = []\n",
    "        for i in words:\n",
    "            for j in words:\n",
    "                if i in j and i!=j:\n",
    "                    res.append(i)\n",
    "        return list(set(res))"
   ]
  }
 ],
 "metadata": {
  "kernelspec": {
   "display_name": "Python 3",
   "language": "python",
   "name": "python3"
  },
  "language_info": {
   "codemirror_mode": {
    "name": "ipython",
    "version": 3
   },
   "file_extension": ".py",
   "mimetype": "text/x-python",
   "name": "python",
   "nbconvert_exporter": "python",
   "pygments_lexer": "ipython3",
   "version": "3.10.10"
  }
 },
 "nbformat": 4,
 "nbformat_minor": 5
}
