{
 "cells": [
  {
   "cell_type": "markdown",
   "id": "6249632d",
   "metadata": {},
   "source": [
    "**Problem Link**: [https://leetcode.com/problems/convert-date-to-binary/description/](https://leetcode.com/problems/convert-date-to-binary/description/)  \n",
    "**Solved On**: 2025-06-25  \n",
    "**Tags**: Strings\n"
   ]
  },
  {
   "cell_type": "code",
   "execution_count": 1,
   "id": "334d7f55",
   "metadata": {},
   "outputs": [],
   "source": [
    "date = \"2080-02-29\""
   ]
  },
  {
   "cell_type": "code",
   "execution_count": 2,
   "id": "8c384a34",
   "metadata": {},
   "outputs": [
    {
     "name": "stdout",
     "output_type": "stream",
     "text": [
      "100000100000-10-11101\n"
     ]
    }
   ],
   "source": [
    "year_str,month_str,day_str = date.split('-')\n",
    "\n",
    "year = int(year_str)\n",
    "month = int(month_str)\n",
    "day = int(day_str)\n",
    "\n",
    "year_bin = bin(year)[2:]\n",
    "month_bin = bin(month)[2:]\n",
    "day_bin = bin(day)[2:]\n",
    "\n",
    "binary_date = f\"{year_bin}-{month_bin}-{day_bin}\"\n",
    "print(binary_date)"
   ]
  }
 ],
 "metadata": {
  "kernelspec": {
   "display_name": "Python 3",
   "language": "python",
   "name": "python3"
  },
  "language_info": {
   "codemirror_mode": {
    "name": "ipython",
    "version": 3
   },
   "file_extension": ".py",
   "mimetype": "text/x-python",
   "name": "python",
   "nbconvert_exporter": "python",
   "pygments_lexer": "ipython3",
   "version": "3.10.10"
  }
 },
 "nbformat": 4,
 "nbformat_minor": 5
}
