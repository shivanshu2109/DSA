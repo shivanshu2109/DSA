{
 "cells": [
  {
   "cell_type": "markdown",
   "id": "ff197fe1",
   "metadata": {},
   "source": [
    "**Problem Link**: [https://leetcode.com/problems/truncate-sentence/description/](https://leetcode.com/problems/truncate-sentence/description/)  \n",
    "**Solved On**: 2025-07-21  \n",
    "**Tags**: Strings\n"
   ]
  },
  {
   "cell_type": "code",
   "execution_count": 1,
   "id": "d4473431",
   "metadata": {},
   "outputs": [],
   "source": [
    "s = \"Hello how are you Contestant\"\n",
    "k = 4"
   ]
  },
  {
   "cell_type": "code",
   "execution_count": 13,
   "id": "e8435f84",
   "metadata": {},
   "outputs": [
    {
     "name": "stdout",
     "output_type": "stream",
     "text": [
      "Hello how are you\n",
      "['Hello', 'how', 'are', 'you', 'Contestant']\n"
     ]
    }
   ],
   "source": [
    "list1 = [ i for i in s.split() if i!=\"\"]\n",
    "string1 = list1[0]\n",
    "i=1\n",
    "while i<k:\n",
    "    string1 += \" \"+ list1[i] \n",
    "    i += 1\n",
    "print(string1)\n",
    "print(list1)\n"
   ]
  }
 ],
 "metadata": {
  "kernelspec": {
   "display_name": "Python 3",
   "language": "python",
   "name": "python3"
  },
  "language_info": {
   "codemirror_mode": {
    "name": "ipython",
    "version": 3
   },
   "file_extension": ".py",
   "mimetype": "text/x-python",
   "name": "python",
   "nbconvert_exporter": "python",
   "pygments_lexer": "ipython3",
   "version": "3.10.10"
  }
 },
 "nbformat": 4,
 "nbformat_minor": 5
}
