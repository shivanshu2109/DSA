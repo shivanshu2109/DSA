{
 "cells": [
  {
   "cell_type": "markdown",
   "id": "e4893973",
   "metadata": {},
   "source": [
    "**Problem Link**: [https://leetcode.com/problems/maximum-number-of-balloons/description/](https://leetcode.com/problems/maximum-number-of-balloons/description/)  \n",
    "**Solved On**: 2025-09-04  \n",
    "**Tags**: Strings\n"
   ]
  },
  {
   "cell_type": "code",
   "execution_count": 23,
   "id": "3605e2cf",
   "metadata": {},
   "outputs": [],
   "source": [
    "text = \"loonbalxballpoon\""
   ]
  },
  {
   "cell_type": "markdown",
   "id": "c459d210",
   "metadata": {},
   "source": [
    "# Balloon"
   ]
  },
  {
   "cell_type": "code",
   "execution_count": null,
   "id": "85e543bc",
   "metadata": {},
   "outputs": [
    {
     "name": "stdout",
     "output_type": "stream",
     "text": [
      "Counter({'l': 4, 'o': 4, 'n': 2, 'b': 2, 'a': 2, 'x': 1, 'p': 1})\n",
      "2\n",
      "2\n"
     ]
    }
   ],
   "source": [
    "from collections import Counter\n",
    "\n",
    "char_count = Counter(text)\n",
    "print(char_count)\n",
    "min_balloons = min(\n",
    "    char_count.get('b', 0) // 1,\n",
    "    char_count.get('a', 0) // 1,\n",
    "    char_count.get('l', 0) // 2,\n",
    "    char_count.get('o', 0) // 2,\n",
    "    char_count.get('n', 0) // 1\n",
    ")\n",
    "print(min_balloons)"
   ]
  }
 ],
 "metadata": {
  "kernelspec": {
   "display_name": "Python 3",
   "language": "python",
   "name": "python3"
  },
  "language_info": {
   "codemirror_mode": {
    "name": "ipython",
    "version": 3
   },
   "file_extension": ".py",
   "mimetype": "text/x-python",
   "name": "python",
   "nbconvert_exporter": "python",
   "pygments_lexer": "ipython3",
   "version": "3.10.10"
  }
 },
 "nbformat": 4,
 "nbformat_minor": 5
}
