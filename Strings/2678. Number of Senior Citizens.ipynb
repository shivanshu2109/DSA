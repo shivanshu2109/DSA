{
 "cells": [
  {
   "cell_type": "markdown",
   "id": "d9cdf10f",
   "metadata": {},
   "source": [
    "**Problem Link**: [https://leetcode.com/problems/number-of-senior-citizens/description/](https://leetcode.com/problems/number-of-senior-citizens/description/)  \n",
    "**Solved On**: 2025-08-12  \n",
    "**Tags**: Strings\n"
   ]
  },
  {
   "cell_type": "code",
   "execution_count": 1,
   "id": "1adb7c1b",
   "metadata": {},
   "outputs": [],
   "source": [
    "details = [\"7868190130M7522\",\"5303914400F9211\",\"9273338290F4010\"]"
   ]
  },
  {
   "cell_type": "code",
   "execution_count": 11,
   "id": "fb316c76",
   "metadata": {},
   "outputs": [
    {
     "name": "stdout",
     "output_type": "stream",
     "text": [
      "2\n"
     ]
    }
   ],
   "source": [
    "age = '60'\n",
    "count = 0\n",
    "for i in range(len(details)):\n",
    "    check = details[i][11:13]\n",
    "    if check > age:\n",
    "        count += 1\n",
    "print(count) "
   ]
  }
 ],
 "metadata": {
  "kernelspec": {
   "display_name": "Python 3",
   "language": "python",
   "name": "python3"
  },
  "language_info": {
   "codemirror_mode": {
    "name": "ipython",
    "version": 3
   },
   "file_extension": ".py",
   "mimetype": "text/x-python",
   "name": "python",
   "nbconvert_exporter": "python",
   "pygments_lexer": "ipython3",
   "version": "3.10.10"
  }
 },
 "nbformat": 4,
 "nbformat_minor": 5
}
