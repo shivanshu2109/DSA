{
 "cells": [
  {
   "cell_type": "markdown",
   "id": "2c4f0007",
   "metadata": {},
   "source": [
    "**Problem Link**: [https://leetcode.com/problems/is-subsequence/description/](https://leetcode.com/problems/is-subsequence/description/)  \n",
    "**Solved On**: 2025-08-11  \n",
    "**Tags**: Strings\n"
   ]
  },
  {
   "cell_type": "code",
   "execution_count": null,
   "id": "31287288",
   "metadata": {},
   "outputs": [],
   "source": [
    "class Solution:\n",
    "    def isSubsequence(self, s: str, t: str) -> bool:\n",
    "        i,j = 0,0\n",
    "        while i<len(s) and j<len(t):\n",
    "            if s[i]==t[j]:\n",
    "                i+=1\n",
    "                j+=1\n",
    "            else:\n",
    "                j+=1\n",
    "        return True if i==len(s) else False\n",
    "        "
   ]
  }
 ],
 "metadata": {
  "kernelspec": {
   "display_name": "Python 3",
   "language": "python",
   "name": "python3"
  },
  "language_info": {
   "codemirror_mode": {
    "name": "ipython",
    "version": 3
   },
   "file_extension": ".py",
   "mimetype": "text/x-python",
   "name": "python",
   "nbconvert_exporter": "python",
   "pygments_lexer": "ipython3",
   "version": "3.10.10"
  }
 },
 "nbformat": 4,
 "nbformat_minor": 5
}
