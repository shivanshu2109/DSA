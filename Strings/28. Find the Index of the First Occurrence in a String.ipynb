{
 "cells": [
  {
   "cell_type": "markdown",
   "id": "6e0fe6a2",
   "metadata": {},
   "source": [
    "**Problem Link**: [https://leetcode.com/problems/find-the-index-of-the-first-occurrence-in-a-string/description/](https://leetcode.com/problems/find-the-index-of-the-first-occurrence-in-a-string/description/)  \n",
    "**Solved On**: 2025-06-29  \n",
    "**Tags**: Strings\n"
   ]
  },
  {
   "cell_type": "code",
   "execution_count": 9,
   "id": "c6372e19",
   "metadata": {},
   "outputs": [],
   "source": [
    "haystack = \"leetcode\"\n",
    "needle = \"leeto\""
   ]
  },
  {
   "cell_type": "code",
   "execution_count": 8,
   "id": "d7c0b2fe",
   "metadata": {},
   "outputs": [
    {
     "name": "stdout",
     "output_type": "stream",
     "text": [
      "-1\n"
     ]
    }
   ],
   "source": [
    "if needle in haystack:\n",
    "    index = haystack.index(needle)\n",
    "else:\n",
    "    index = -1\n",
    "print(index)  "
   ]
  }
 ],
 "metadata": {
  "kernelspec": {
   "display_name": "Python 3",
   "language": "python",
   "name": "python3"
  },
  "language_info": {
   "codemirror_mode": {
    "name": "ipython",
    "version": 3
   },
   "file_extension": ".py",
   "mimetype": "text/x-python",
   "name": "python",
   "nbconvert_exporter": "python",
   "pygments_lexer": "ipython3",
   "version": "3.10.10"
  }
 },
 "nbformat": 4,
 "nbformat_minor": 5
}
